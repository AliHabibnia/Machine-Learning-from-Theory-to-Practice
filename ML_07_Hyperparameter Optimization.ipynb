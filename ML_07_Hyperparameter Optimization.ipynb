{
 "cells": [
  {
   "cell_type": "markdown",
   "id": "9e29e9cc",
   "metadata": {},
   "source": [
    "# <center><font color=navy> Machine Learning from Theory to Practice</font></center>\n",
    "## <center><font color=navy>Hyperparameter Optimization (HPO)</font> </center>\n",
    "### <center> Ali Habibnia</center>\n",
    "\n",
    "    \n",
    "<center> Assistant Professor, Department of Economics, </center>\n",
    "<center> and Division of Computational Modeling & Data Analytics at Virginia Tech</center>\n",
    " <center> habibnia@vt.edu </center> "
   ]
  },
  {
   "cell_type": "markdown",
   "id": "dc0bea98",
   "metadata": {},
   "source": [
    "### Introduction to Hyperparameter Optimization (HPO)\n",
    "\n",
    "Hyperparameters are the configuration settings that orchestrate the learning process of a neural network. These settings, which include network architecture details and learning process parameters, are set prior to training and have a substantial impact on model performance. Unlike model parameters like weights and biases that are learned during training, hyperparameters are predefined and guide the training process.\n",
    "\n",
    "The optimization of these hyperparameters is pivotal for enhancing model accuracy, as it involves searching for the ideal combination of hyperparameters that yield the most precise predictions. This search can range from basic manual adjustments and grid-based explorations to more sophisticated and automated optimization strategies.\n",
    "\n",
    "### Popular HPO Techniques\n",
    "\n",
    "Hyperparameter optimization employs a variety of techniques, each with its own approach to navigating the vast hyperparameter space:\n",
    "\n",
    "- **Grid Search**: This method evaluates the model's performance for every possible combination of hyperparameters defined within a grid, offering a thorough but time-consuming approach.\n",
    "- **Random Search**: By randomly sampling the hyperparameter space, this technique provides a quicker, though less exhaustive, alternative to grid search.\n",
    "- **Bayesian Optimization**: Utilizing a probabilistic model, Bayesian Optimization predicts the performance of different hyperparameter sets and intelligently selects new combinations based on past evaluations.\n",
    "- **Gradient-Based Optimization**: This approach adjusts hyperparameters by following the gradient of the objective function, suitable for continuous and differentiable hyperparameters.\n",
    "- **Evolutionary Algorithms**: Mimicking natural selection, these algorithms evolve hyperparameters through generations using mechanisms like mutation and crossover, effectively exploring complex spaces.\n",
    "\n",
    "### Automated Hyperparameter Tuning\n",
    "\n",
    "Among the aforementioned techniques, certain methods stand out for their ability to automate the optimization process, reducing the need for manual intervention and expertise:\n",
    "\n",
    "- **Automated HPO Frameworks**: Advanced tools such as Hyperopt, Optuna, and comprehensive AutoML solutions like Google's AutoML and H2O's AutoML streamline hyperparameter tuning. These frameworks often leverage sophisticated strategies, including Bayesian Optimization and Evolutionary Algorithms, to autonomously search for optimal hyperparameters.\n",
    "  \n",
    "- **Bayesian Optimization** and **Evolutionary Algorithms**, in particular, are celebrated for their efficiency in automated settings. They intelligently navigate the hyperparameter space, potentially uncovering high-performance configurations that might be missed through more rudimentary approaches.\n",
    "\n",
    "### Types of Hyperparameters in Deep Learning\n",
    "\n",
    "Deep learning models are influenced by various hyperparameters, including but not limited to:\n",
    "\n",
    "- **Network Architecture**: Details like the number of layers and the number of units in each layer, which define the structure of the neural network.\n",
    "- **Learning Rate**: The magnitude of updates to the model in response to the estimated error each time the model weights are updated.\n",
    "- **Number of Epochs**: Total rounds of passing the entire dataset through the neural network during training.\n",
    "- **Batch Size**: The number of examples used in one iteration of model training.\n",
    "- **Regularization Parameters**: Techniques such as L1 and L2 regularization that mitigate overfitting by penalizing large weights.\n",
    "\n",
    "The selection of hyperparameters is a crucial aspect of neural network design and can dramatically affect learning dynamics and model performance. Given the diversity in neural network architectures and the unique challenges posed by different datasets, hyperparameter optimization remains a key step in developing efficient and accurate neural network models."
   ]
  },
  {
   "cell_type": "markdown",
   "id": "56f66271",
   "metadata": {},
   "source": [
    "### Grid Search\n",
    "\n",
    "Grid Search involves defining a grid of hyperparameters and systematically working through multiple combinations, evaluating each one. The key steps are:\n",
    "\n",
    "1. **Define the hyperparameter grid:** Create a dictionary where each key represents a hyperparameter and its corresponding value is a list of possible values to explore.\n",
    "2. **Create a model:** Train a model for each combination of hyperparameters in the grid (e.g., SVM, Neural Network).\n",
    "3. **Instantiate the GridSearchCV object:** Provide the model and the hyperparameter grid to the `GridSearchCV` function from the `sklearn.model_selection` module.\n",
    "4. **Fit the model:** Apply the `fit` method to the `GridSearchCV` object, passing your training data (features `X` and labels `y`).\n",
    "5. **Retrieve results:** Access the best combination of hyperparameters using `best_params_` and the best score with `best_score_`.\n",
    "\n",
    "While comprehensive, it can be computationally expensive for large grids or numerous hyperparameters."
   ]
  },
  {
   "cell_type": "markdown",
   "id": "c54549e0",
   "metadata": {},
   "source": [
    "### Grid Search with MLPRegressor\n",
    "\n",
    "Here, we demonstrate using Grid Search to optimize hyperparameters for a Multi-Layer Perceptron Regressor (MLPRegressor) on a sinusoidal data set. We'll explore various combinations of hidden layer sizes, activation functions, and solvers to find the configuration that yields the best performance.\n"
   ]
  },
  {
   "cell_type": "code",
   "execution_count": 2,
   "id": "67c0725c",
   "metadata": {},
   "outputs": [
    {
     "name": "stdout",
     "output_type": "stream",
     "text": [
      "Best parameters: {'activation': 'tanh', 'hidden_layer_sizes': (4, 8), 'solver': 'lbfgs'}\n",
      "Best score: 0.42599703102184777\n"
     ]
    },
    {
     "data": {
      "image/png": "[encoded data removed]",
      "text/plain": [
       "<Figure size 432x288 with 1 Axes>"
      ]
     },
     "metadata": {
      "needs_background": "light"
     },
     "output_type": "display_data"
    }
   ],
   "source": [
    "%matplotlib inline\n",
    "from sklearn.neural_network import MLPRegressor\n",
    "from sklearn.model_selection import GridSearchCV\n",
    "import numpy as np\n",
    "import matplotlib.pyplot as plt\n",
    "\n",
    "x = np.arange(-1.5, 1.5, 0.01).reshape(-1, 1)\n",
    "y = np.sin(2 * np.pi * x).ravel()\n",
    "\n",
    "# Define hyperparameter grid\n",
    "param_grid = {\n",
    "   'hidden_layer_sizes': [(4, 8), (8, 4), (10, 6), (6, 10)],\n",
    "   'activation': ['tanh', 'relu'],\n",
    "   'solver': ['lbfgs', 'adam']\n",
    "}\n",
    "\n",
    "# Create model\n",
    "nn = MLPRegressor(\n",
    "   max_iter=5000, \n",
    "   random_state=9\n",
    ")\n",
    "\n",
    "# Perform grid search\n",
    "grid_search = GridSearchCV(nn, param_grid, cv=5)\n",
    "grid_search.fit(x, y)\n",
    "\n",
    "# Best parameters and score\n",
    "best_params = grid_search.best_params_\n",
    "best_score = grid_search.best_score_\n",
    "\n",
    "print(\"Best parameters:\", best_params)\n",
    "print(\"Best score:\", best_score)\n",
    "\n",
    "# Use the best model for prediction\n",
    "best_model = grid_search.best_estimator_\n",
    "test_x = np.arange(-1.5, 1.5, 0.05).reshape(-1, 1)\n",
    "test_y = best_model.predict(test_x)\n",
    "\n",
    "# Plot results\n",
    "fig = plt.figure()\n",
    "ax1 = fig.add_subplot(111)\n",
    "ax1.scatter(x, y, s=1, c='b', marker=\"s\", label='real')\n",
    "ax1.scatter(test_x, test_y, s=10, c='r', marker=\"o\", label='NN Prediction')\n",
    "plt.legend()\n",
    "plt.show()"
   ]
  },
  {
   "cell_type": "markdown",
   "id": "ecfc6515",
   "metadata": {},
   "source": [
    "### Grid Search with Keras Neural Network\n",
    "\n",
    "This example demonstrates using Grid Search to optimize hyperparameters for a custom-built neural network model with Keras on a sinusoidal data set. We'll explore various combinations of hidden layer sizes, activation functions, and optimizers to find the configuration that yields the best performance.\n",
    "\n",
    "---- \n",
    "\n",
    "`tqdm` is a fast, extensible progress bar library for Python that can be easily integrated into loops and command-line interfaces. It provides a simple way to add progress indicators to your applications.\n",
    "\n",
    "https://pypi.org/project/tqdm/\n",
    "\n",
    "\n",
    "#### Key Features:\n",
    "- Easy integration with loops and iterable objects.\n",
    "- Customizable appearance and functionality.\n",
    "- Support for nested loops and parallel processing.\n",
    "\n",
    "#### Usage with Keras:\n",
    "- `tqdm.keras.TqdmCallback`: A callback for Keras models that displays a tqdm progress bar for training epochs.\n",
    "- Simply add `TqdmCallback(verbose=2)` to the list of callbacks in the model's `fit` method to display a progress bar during training.\n",
    "- The `verbose=2` parameter ensures that tqdm's progress bar is used instead of Keras' default progress output.\n",
    "\n",
    "#### Usage Example:\n",
    "```python\n",
    "from tqdm.keras import TqdmCallback\n",
    "\n",
    "model.fit(X, y, epochs=100, callbacks=[TqdmCallback(verbose=2)])\n"
   ]
  },
  {
   "cell_type": "code",
   "execution_count": null,
   "id": "01ba1396",
   "metadata": {
    "id": "GaFV6zc1Njhl"
   },
   "outputs": [],
   "source": [
    "!pip install tensorflow-probability>null"
   ]
  },
  {
   "cell_type": "code",
   "execution_count": 27,
   "id": "07b663e0",
   "metadata": {
    "colab": {
     "base_uri": "https://localhost:8080/",
     "height": 851,
     "referenced_widgets": [
      "c0ddbce01a34420499c507fa4c471525",
      "9b7a1d4d742544189e815eeaa5a1447b",
      "1e8bc59f3c984b508012cf9ed2744cac",
      "ea90e2b1e0084f85a077cd14c66e843d",
      "e11b769bf9004690b720b9ff99e01ad5",
      "7b9aa9306a9241a8b9279cac30992383",
      "72ab338d77334b97aa68db1ec0550127",
      "aba41e9222f64160bd90770b2821bee1",
      "18e975cc47524ca5b4225f6643130c89",
      "eb80939840b44bf8b11d5e8b9391be42",
      "f49b10a837a749438858a71352fb87c3",
      "ccba1409842c464b8b87990817f70b56",
      "2d9a5a2181fa4b1b8728965c0f2a0387",
      "f49d80555cbc4649b901106d244134a6",
      "73391766fe5747ae8fc4c22daa49f386",
      "1ff94b40a4b942eaa1a048a1c122feb9",
      "159b42803f984466a9ad9c44fffacc6f",
      "0c2ecee49c5944d8bfff208f238a1c2f",
      "9db08a20fa314baa8ed1f57fd4213875",
      "a445ebe2d0fa49658dd6df034a4b564b",
      "362a47a7f7174c29b6b0fcea3c7cc1ba",
      "802823a5412147c1bde466013993d83f",
      "2b554f251e33472b9f667c665553e829",
      "62c80cf8664142d196100cfa5e3bbb33",
      "5e07884bd73c4569a2dbe0ef79aedc28",
      "3f592ec2990d4db288c926aa7e7c6fc5",
      "a1a7369778da4ce3a92b51011df2e456",
      "083614c275044367928621bd913780be",
      "c8fbe5c6ee7e4775be57a66570049032",
      "172c1a3db71e483b88f6d51691f18b72",
      "f9d7cbe2d2d04f45ba7458de8047fea6",
      "ccc56384a0ad410abdbc71e314283e03",
      "1da4635816c84363b751c8be93fb914c",
      "34d3ffb072e74e558cf794634724f619",
      "8684b888b4be4a809a1356ef1a2fb5dc",
      "2485fc12b9944d94b560d9c9440ba4a5",
      "7e098d38014d410f9edf133329663284",
      "05309d55c08b46e3b06cef5fc22a5bac",
      "37139d6fe44e46f2b4291c5f7142fb56",
      "2ecd8351187143e3a9191b6246aeaa3d",
      "88579918f75047fabc4f6c3eecc66cdc",
      "b6426af221fd4b1c95c809728f77c8d2",
      "85306743ea9949efb63d46101364d6c0",
      "8d441205b71e4a0b82f0101028fc2fd1",
      "4d5ef89a96cd457884ef1b25ceeb6673",
      "e70e82f83170486ba0ffb0a94f09c7c4",
      "37aa89df265a4795b772d63af862bbc9",
      "2653d43d084b46b5996f1b2e6ce4614f",
      "a0e879b754e34772bd7d44040fe61117",
      "21fd78e9db15439b923c6e48fd50122f",
      "3481d5dc62514bf3b79e34ba5a5e330c",
      "c2133f4140814ad1ba53640008c5ab78",
      "785cb938be924ae8b5da92d371cc244a",
      "3befaebd6b314118abc9f818e7d8c0d5",
      "ecb8fa13b1394cc4917a24501c21859e",
      "baa33b500b824a11b45fc8935b13c106",
      "21e47eeadfcd457ca16530f6317a70e0",
      "120906fc8d4f44b4878bfa9ed04c6599",
      "16dea07f2a49431690eaf444d070a75f",
      "ba0ed1d9e9d34d40927619f7dde354ff",
      "d7bdd99f6ee94ee6a845ecfbf2acf73b",
      "8c15de190b644921a5d6eff206c57070",
      "29e27d253c4f4d418e2241bd625b7982",
      "1610b10ec8b24562a460d7739e3ca63a",
      "12ce150b4044446a81b243777a587425",
      "8975755aa2dc4ad89d29f55632ef804d",
      "598e35c3704341c9b89e4f997183d231",
      "68faa4c105954de8bd6c6f05b2558701",
      "90f896fa699d4ce0a9537564c9443fb5",
      "e06466c766b14511926ee4ca3e98e46c",
      "ee6357ab27d6450c82e8e00f31f8ec2f",
      "0604b26644e94bf5b805a70fc0d98a5d",
      "30f07a1f596547a68875e13f303c6deb",
      "04b8fde7be5a429fb79601c77bf6b06f",
      "11018f5c0e32494a90046f4ff1109fbd",
      "cb1ff0829fab44488996abc75c493010",
      "7efc79e684b143b79f2b3a4de1984d14",
      "63341c462727405f946be8132136f714",
      "4b6a2a6b5add4c55ad347b54dfe6a441",
      "bf90253a4a774207b6d02dfb2a6abfaf",
      "b66c7ffd6ffb4a48afe2bebd28f33259",
      "177306e5a33645718b25dd358b90562f",
      "07c21161a4ee49ffb7bdc5ff84836153",
      "e6b99a6a4ee34f0397b0a7330c2b89d3",
      "3406f1a8ead342b1b3ca1e61d8eb1231",
      "8a6f5e5967204ea59935e528210d60fb",
      "83eaf57b4a744098b807ca6cbbd17024",
      "ea8b19e910454315b75fbea615ea3670",
      "9e86cb93bcbc49dbb6e3838af3b85b95",
      "f05d79613e4c4121a78040aa5775340c",
      "8a4d13739d324d9b9f1ef090068e2a66",
      "4190be82af87481aaa135676c9c36d11",
      "494db63a09444ec2991893bc63de4c86",
      "a0844f5c64074bc486452625b628d266",
      "92eb499411024394af3b2be60ac64f5e",
      "feca13bccdcb4439b8c4db129df89a8f",
      "c41cff2afa09455bbf8bc1fe2d2fa85e",
      "0ca4ea165e5b473398c211852104539b",
      "6e74724d46574a509e46b3cc31536c76",
      "b335107a2ae34c26841d57dae2cd6301",
      "bb187e0fd9d146359b49d5f03bef0fb9",
      "4f2f25f33e844adebfa7f9e4c30758b0",
      "d5a9fccee0a8464d96e9611fa435ed8f",
      "d8417607a9324ab69642dcd5f58caad7",
      "591cd54e4e494e3eaf81ee757ef68a34",
      "42cd078fca2949c0813bb2318a0dfef8",
      "2e0242d57f344d25afeea6fffff5094c",
      "93e2cf6fcd0a405e8e30359c7637488b",
      "7405c96ec2a1474a8ba7d604b8ec9497",
      "a20fdcac4ca440d48da55a107e776218",
      "d3a09fc6ee2a48be8852554c98a5aa9d",
      "87193ab4a21b4b059bef1bc23008175f",
      "812141c5bffc4db8a07f399c14d6b03e",
      "4edd2482da5d4388bea9b31dd15c11df",
      "8d91563b5d4543bb8315c49d30e4864c",
      "c3323184be50467a82114f4644e5d7ce",
      "40eb1b8b15ec480aafba2e46b2371c8b",
      "5e3b001a9f6147948b65a2aaa5e6f48a",
      "7451fe47da08428e8d2593f91c2b602c",
      "0239267740564d95804fd6706f233666",
      "c9e367cd9c7e466181da713a318401cd"
     ]
    },
    "id": "sCpo2cNR7M50",
    "outputId": "a024d370-4cee-443f-d996-ab267b73ef92"
   },
   "outputs": [
    {
     "name": "stdout",
     "output_type": "stream",
     "text": [
      "Fitting 5 folds for each of 16 candidates, totalling 80 fits\n"
     ]
    },
    {
     "data": {
      "application/vnd.jupyter.widget-view+json": {
       "model_id": "c0ddbce01a34420499c507fa4c471525",
       "version_major": 2,
       "version_minor": 0
      },
      "text/plain": [
       "0epoch [00:00, ?epoch/s]"
      ]
     },
     "metadata": {},
     "output_type": "display_data"
    },
    {
     "data": {
      "application/vnd.jupyter.widget-view+json": {
       "model_id": "ccba1409842c464b8b87990817f70b56",
       "version_major": 2,
       "version_minor": 0
      },
      "text/plain": [
       "  0%|          | 0.00/30.0 [00:00<?, ?batch/s]"
      ]
     },
     "metadata": {},
     "output_type": "display_data"
    },
    {
     "data": {
      "application/vnd.jupyter.widget-view+json": {
       "model_id": "2b554f251e33472b9f667c665553e829",
       "version_major": 2,
       "version_minor": 0
      },
      "text/plain": [
       "  0%|          | 0.00/30.0 [00:00<?, ?batch/s]"
      ]
     },
     "metadata": {},
     "output_type": "display_data"
    },
    {
     "data": {
      "application/vnd.jupyter.widget-view+json": {
       "model_id": "34d3ffb072e74e558cf794634724f619",
       "version_major": 2,
       "version_minor": 0
      },
      "text/plain": [
       "  0%|          | 0.00/30.0 [00:00<?, ?batch/s]"
      ]
     },
     "metadata": {},
     "output_type": "display_data"
    },
    {
     "data": {
      "application/vnd.jupyter.widget-view+json": {
       "model_id": "4d5ef89a96cd457884ef1b25ceeb6673",
       "version_major": 2,
       "version_minor": 0
      },
      "text/plain": [
       "  0%|          | 0.00/30.0 [00:00<?, ?batch/s]"
      ]
     },
     "metadata": {},
     "output_type": "display_data"
    },
    {
     "data": {
      "application/vnd.jupyter.widget-view+json": {
       "model_id": "baa33b500b824a11b45fc8935b13c106",
       "version_major": 2,
       "version_minor": 0
      },
      "text/plain": [
       "  0%|          | 0.00/30.0 [00:00<?, ?batch/s]"
      ]
     },
     "metadata": {},
     "output_type": "display_data"
    },
    {
     "data": {
      "application/vnd.jupyter.widget-view+json": {
       "model_id": "598e35c3704341c9b89e4f997183d231",
       "version_major": 2,
       "version_minor": 0
      },
      "text/plain": [
       "  0%|          | 0.00/30.0 [00:00<?, ?batch/s]"
      ]
     },
     "metadata": {},
     "output_type": "display_data"
    },
    {
     "data": {
      "application/vnd.jupyter.widget-view+json": {
       "model_id": "63341c462727405f946be8132136f714",
       "version_major": 2,
       "version_minor": 0
      },
      "text/plain": [
       "  0%|          | 0.00/30.0 [00:00<?, ?batch/s]"
      ]
     },
     "metadata": {},
     "output_type": "display_data"
    },
    {
     "data": {
      "application/vnd.jupyter.widget-view+json": {
       "model_id": "9e86cb93bcbc49dbb6e3838af3b85b95",
       "version_major": 2,
       "version_minor": 0
      },
      "text/plain": [
       "  0%|          | 0.00/30.0 [00:00<?, ?batch/s]"
      ]
     },
     "metadata": {},
     "output_type": "display_data"
    },
    {
     "data": {
      "application/vnd.jupyter.widget-view+json": {
       "model_id": "b335107a2ae34c26841d57dae2cd6301",
       "version_major": 2,
       "version_minor": 0
      },
      "text/plain": [
       "  0%|          | 0.00/30.0 [00:00<?, ?batch/s]"
      ]
     },
     "metadata": {},
     "output_type": "display_data"
    },
    {
     "data": {
      "application/vnd.jupyter.widget-view+json": {
       "model_id": "d3a09fc6ee2a48be8852554c98a5aa9d",
       "version_major": 2,
       "version_minor": 0
      },
      "text/plain": [
       "  0%|          | 0.00/30.0 [00:00<?, ?batch/s]"
      ]
     },
     "metadata": {},
     "output_type": "display_data"
    },
    {
     "name": "stdout",
     "output_type": "stream",
     "text": [
      "Best parameters: {'activation': 'tanh', 'hidden_layer_sizes': (8, 4), 'optimizer': 'SGD'}\n",
      "Best score: -0.9068428092342227\n",
      "2/2 [==============================] - 0s 6ms/step\n"
     ]
    },
    {
     "data": {
      "image/png": "[encoded data removed]",
      "text/plain": [
       "<Figure size 640x480 with 1 Axes>"
      ]
     },
     "metadata": {},
     "output_type": "display_data"
    }
   ],
   "source": [
    "%matplotlib inline\n",
    "import numpy as np\n",
    "import matplotlib.pyplot as plt\n",
    "from tensorflow.keras.models import Sequential\n",
    "from tensorflow.keras.layers import Dense\n",
    "from sklearn.model_selection import GridSearchCV\n",
    "from sklearn.base import BaseEstimator, RegressorMixin\n",
    "from tqdm.keras import TqdmCallback\n",
    "\n",
    "class KerasRegressorWrapper(BaseEstimator, RegressorMixin):\n",
    "    def __init__(self, hidden_layer_sizes=(4, 8), activation='relu', optimizer='adam', epochs=10, batch_size=10):\n",
    "        self.hidden_layer_sizes = hidden_layer_sizes\n",
    "        self.activation = activation\n",
    "        self.optimizer = optimizer\n",
    "        self.epochs = epochs\n",
    "        self.batch_size = batch_size\n",
    "        self.model = self.build_model()\n",
    "\n",
    "    def build_model(self):\n",
    "        model = Sequential()\n",
    "        model.add(Dense(self.hidden_layer_sizes[0], input_dim=1, activation=self.activation))\n",
    "        for layer_size in self.hidden_layer_sizes[1:]:\n",
    "            model.add(Dense(layer_size, activation=self.activation))\n",
    "        model.add(Dense(1))  # Output layer\n",
    "        model.compile(loss='mean_squared_error', optimizer=self.optimizer)\n",
    "        return model\n",
    "\n",
    "    def fit(self, X, y):\n",
    "        self.model.fit(X, y, epochs=self.epochs, batch_size=self.batch_size, verbose=0, callbacks=[TqdmCallback(verbose=2)])\n",
    "        return self\n",
    "\n",
    "    def predict(self, X):\n",
    "        return self.model.predict(X)\n",
    "\n",
    "x = np.arange(-1.5, 1.5, 0.01).reshape(-1, 1)\n",
    "y = np.sin(2 * np.pi * x).ravel()\n",
    "\n",
    "param_grid = {\n",
    "    'hidden_layer_sizes': [(4, 8), (8, 4), (10, 6), (6, 10)],\n",
    "    'activation': ['tanh', 'relu'],\n",
    "    'optimizer': ['adam','SGD']\n",
    "}\n",
    "\n",
    "model = KerasRegressorWrapper()\n",
    "\n",
    "grid_search = GridSearchCV(estimator=model, param_grid=param_grid, cv=5, n_jobs=-1, verbose=2)\n",
    "grid_search.fit(x, y)\n",
    "\n",
    "best_params = grid_search.best_params_\n",
    "best_score = grid_search.best_score_\n",
    "\n",
    "print(\"Best parameters:\", best_params)\n",
    "print(\"Best score:\", best_score)\n",
    "\n",
    "test_x = np.arange(-1.5, 1.5, 0.05).reshape(-1, 1)\n",
    "test_y = grid_search.predict(test_x)\n",
    "\n",
    "fig = plt.figure()\n",
    "ax1 = fig.add_subplot(111)\n",
    "ax1.scatter(x, y, s=1, c='b', marker=\"s\", label='real')\n",
    "ax1.scatter(test_x, test_y, s=10, c='r', marker=\"o\", label='NN Prediction')\n",
    "plt.legend()\n",
    "plt.show()\n"
   ]
  },
  {
   "cell_type": "markdown",
   "id": "2b8bf123",
   "metadata": {
    "id": "V04sPTTvPtII"
   },
   "source": [
    "`KerasRegressorWrapper` is a custom class designed to integrate Keras models with scikit-learn's `GridSearchCV`. This wrapper allows you to perform hyperparameter tuning on Keras models using scikit-learn's grid search functionality.\n",
    "\n",
    "#### Key Components:\n",
    "- **`__init__` Method**: Initializes the wrapper with given hyperparameters such as the architecture (`hidden_layer_sizes`), activation function (`activation`), optimizer (`optimizer`), and number of epochs (`epochs`).\n",
    "- **`build_model` Method**: Constructs a Keras Sequential model based on the specified architecture and activation function.\n",
    "- **`fit` Method**: Trains the model. If the optimizer is 'adam', it uses Keras' built-in compile and fit methods. If 'lbfgs' is specified, it employs TensorFlow Probability's L-BFGS optimizer with a custom training loop.\n",
    "- **`predict` Method**: Uses the trained model to make predictions on new data.\n",
    "- **`score` Method**: Evaluates the model's performance, returning the negative mean squared error for compatibility with scikit-learn's convention where higher values are better.\n",
    "\n",
    "#### Usage:\n",
    "To use `KerasRegressorWrapper` with `GridSearchCV`, define a parameter grid (`param_grid`) that includes the hyperparameters you want to tune. Then, create a `GridSearchCV` instance with `KerasRegressorWrapper` as the estimator and `param_grid` as the hyperparameter space. Finally, call the `fit` method on your data.\n",
    "\n",
    "----\n",
    "\n",
    "https://www.tensorflow.org/probability\n",
    "\n",
    "TensorFlow Probability (`tfp`) is a library for probabilistic reasoning and statistical analysis in TensorFlow. It provides a range of tools for building and training probabilistic models, including optimizers like L-BFGS.\n",
    "\n",
    "#### L-BFGS Optimizer:\n",
    "- `tfp.optimizer.lbfgs_minimize` is a method that implements the L-BFGS optimization algorithm, commonly used for functions that are smooth and have continuous second derivatives.\n",
    "- Suitable for tasks where gradient descent methods might not be efficient or applicable.\n",
    "- Requires defining a function that computes the loss and its gradients, which is then minimized using the L-BFGS algorithm.\n",
    "\n",
    "#### Usage in Keras Models:\n",
    "Integrating `tfp`'s L-BFGS optimizer with Keras models involves a custom training loop where the model's weights are updated manually after optimization. This process is more complex than using standard Keras optimizers but can be beneficial for specific optimization problems.\n"
   ]
  },
  {
   "cell_type": "code",
   "execution_count": 29,
   "id": "e2a5e8e9",
   "metadata": {
    "colab": {
     "base_uri": "https://localhost:8080/",
     "height": 1000
    },
    "id": "WiliM-aIPKYl",
    "outputId": "51dfe295-2848-4f29-91ba-15b789d59050"
   },
   "outputs": [
    {
     "name": "stdout",
     "output_type": "stream",
     "text": [
      "Fitting 5 folds for each of 16 candidates, totalling 80 fits\n",
      "2/2 [==============================] - 0s 6ms/step\n",
      "[CV] END activation=tanh, hidden_layer_sizes=(4, 8), optimizer=adam; total time=   3.3s\n",
      "2/2 [==============================] - 0s 6ms/step\n",
      "[CV] END activation=tanh, hidden_layer_sizes=(4, 8), optimizer=adam; total time=   3.6s\n",
      "2/2 [==============================] - 0s 6ms/step\n",
      "[CV] END activation=tanh, hidden_layer_sizes=(4, 8), optimizer=adam; total time=   3.6s\n",
      "2/2 [==============================] - 0s 7ms/step\n",
      "[CV] END activation=tanh, hidden_layer_sizes=(4, 8), optimizer=adam; total time=   3.8s\n",
      "2/2 [==============================] - 0s 6ms/step\n",
      "[CV] END activation=tanh, hidden_layer_sizes=(4, 8), optimizer=adam; total time=   2.9s\n",
      "[CV] END activation=tanh, hidden_layer_sizes=(4, 8), optimizer=lbfgs; total time=   0.1s\n",
      "[CV] END activation=tanh, hidden_layer_sizes=(4, 8), optimizer=lbfgs; total time=   0.0s\n",
      "[CV] END activation=tanh, hidden_layer_sizes=(4, 8), optimizer=lbfgs; total time=   0.0s\n",
      "[CV] END activation=tanh, hidden_layer_sizes=(4, 8), optimizer=lbfgs; total time=   0.1s\n",
      "[CV] END activation=tanh, hidden_layer_sizes=(4, 8), optimizer=lbfgs; total time=   0.0s\n",
      "2/2 [==============================] - 0s 5ms/step\n",
      "[CV] END activation=tanh, hidden_layer_sizes=(8, 4), optimizer=adam; total time=   3.5s\n",
      "2/2 [==============================] - 0s 6ms/step\n",
      "[CV] END activation=tanh, hidden_layer_sizes=(8, 4), optimizer=adam; total time=   3.7s\n",
      "2/2 [==============================] - 0s 5ms/step\n",
      "[CV] END activation=tanh, hidden_layer_sizes=(8, 4), optimizer=adam; total time=   4.0s\n",
      "2/2 [==============================] - 0s 5ms/step\n",
      "[CV] END activation=tanh, hidden_layer_sizes=(8, 4), optimizer=adam; total time=   3.5s\n",
      "2/2 [==============================] - 0s 5ms/step\n",
      "[CV] END activation=tanh, hidden_layer_sizes=(8, 4), optimizer=adam; total time=   2.7s\n",
      "[CV] END activation=tanh, hidden_layer_sizes=(8, 4), optimizer=lbfgs; total time=   0.0s\n",
      "[CV] END activation=tanh, hidden_layer_sizes=(8, 4), optimizer=lbfgs; total time=   0.1s\n",
      "[CV] END activation=tanh, hidden_layer_sizes=(8, 4), optimizer=lbfgs; total time=   0.0s\n",
      "[CV] END activation=tanh, hidden_layer_sizes=(8, 4), optimizer=lbfgs; total time=   0.1s\n",
      "[CV] END activation=tanh, hidden_layer_sizes=(8, 4), optimizer=lbfgs; total time=   0.0s\n",
      "2/2 [==============================] - 0s 6ms/step\n",
      "[CV] END activation=tanh, hidden_layer_sizes=(10, 6), optimizer=adam; total time=   3.5s\n",
      "2/2 [==============================] - 0s 7ms/step\n",
      "[CV] END activation=tanh, hidden_layer_sizes=(10, 6), optimizer=adam; total time=   3.7s\n",
      "2/2 [==============================] - 0s 6ms/step\n",
      "[CV] END activation=tanh, hidden_layer_sizes=(10, 6), optimizer=adam; total time=   3.5s\n",
      "2/2 [==============================] - 0s 13ms/step\n",
      "[CV] END activation=tanh, hidden_layer_sizes=(10, 6), optimizer=adam; total time=   3.6s\n",
      "2/2 [==============================] - 0s 7ms/step\n",
      "[CV] END activation=tanh, hidden_layer_sizes=(10, 6), optimizer=adam; total time=   3.8s\n",
      "[CV] END activation=tanh, hidden_layer_sizes=(10, 6), optimizer=lbfgs; total time=   0.0s\n",
      "[CV] END activation=tanh, hidden_layer_sizes=(10, 6), optimizer=lbfgs; total time=   0.0s\n",
      "[CV] END activation=tanh, hidden_layer_sizes=(10, 6), optimizer=lbfgs; total time=   0.0s\n",
      "[CV] END activation=tanh, hidden_layer_sizes=(10, 6), optimizer=lbfgs; total time=   0.0s\n",
      "[CV] END activation=tanh, hidden_layer_sizes=(10, 6), optimizer=lbfgs; total time=   0.1s\n",
      "2/2 [==============================] - 0s 6ms/step\n",
      "[CV] END activation=tanh, hidden_layer_sizes=(6, 10), optimizer=adam; total time=   3.6s\n",
      "2/2 [==============================] - 0s 6ms/step\n",
      "[CV] END activation=tanh, hidden_layer_sizes=(6, 10), optimizer=adam; total time=   3.5s\n",
      "2/2 [==============================] - 0s 6ms/step\n",
      "[CV] END activation=tanh, hidden_layer_sizes=(6, 10), optimizer=adam; total time=   3.6s\n",
      "2/2 [==============================] - 0s 6ms/step\n",
      "[CV] END activation=tanh, hidden_layer_sizes=(6, 10), optimizer=adam; total time=   3.7s\n",
      "2/2 [==============================] - 0s 6ms/step\n",
      "[CV] END activation=tanh, hidden_layer_sizes=(6, 10), optimizer=adam; total time=   2.3s\n",
      "[CV] END activation=tanh, hidden_layer_sizes=(6, 10), optimizer=lbfgs; total time=   0.0s\n",
      "[CV] END activation=tanh, hidden_layer_sizes=(6, 10), optimizer=lbfgs; total time=   0.0s\n",
      "[CV] END activation=tanh, hidden_layer_sizes=(6, 10), optimizer=lbfgs; total time=   0.0s\n",
      "[CV] END activation=tanh, hidden_layer_sizes=(6, 10), optimizer=lbfgs; total time=   0.0s\n",
      "[CV] END activation=tanh, hidden_layer_sizes=(6, 10), optimizer=lbfgs; total time=   0.0s\n",
      "2/2 [==============================] - 0s 6ms/step\n",
      "[CV] END activation=relu, hidden_layer_sizes=(4, 8), optimizer=adam; total time=   3.4s\n",
      "2/2 [==============================] - 0s 11ms/step\n",
      "[CV] END activation=relu, hidden_layer_sizes=(4, 8), optimizer=adam; total time=   3.3s\n",
      "2/2 [==============================] - 0s 7ms/step\n",
      "[CV] END activation=relu, hidden_layer_sizes=(4, 8), optimizer=adam; total time=   2.6s\n",
      "2/2 [==============================] - 0s 7ms/step\n",
      "[CV] END activation=relu, hidden_layer_sizes=(4, 8), optimizer=adam; total time=   3.5s\n",
      "2/2 [==============================] - 0s 5ms/step\n",
      "[CV] END activation=relu, hidden_layer_sizes=(4, 8), optimizer=adam; total time=   3.5s\n",
      "[CV] END activation=relu, hidden_layer_sizes=(4, 8), optimizer=lbfgs; total time=   0.0s\n",
      "[CV] END activation=relu, hidden_layer_sizes=(4, 8), optimizer=lbfgs; total time=   0.0s\n",
      "[CV] END activation=relu, hidden_layer_sizes=(4, 8), optimizer=lbfgs; total time=   0.0s\n",
      "[CV] END activation=relu, hidden_layer_sizes=(4, 8), optimizer=lbfgs; total time=   0.0s\n",
      "[CV] END activation=relu, hidden_layer_sizes=(4, 8), optimizer=lbfgs; total time=   0.0s\n",
      "2/2 [==============================] - 0s 5ms/step\n",
      "[CV] END activation=relu, hidden_layer_sizes=(8, 4), optimizer=adam; total time=   3.3s\n",
      "2/2 [==============================] - 0s 5ms/step\n",
      "[CV] END activation=relu, hidden_layer_sizes=(8, 4), optimizer=adam; total time=   4.4s\n",
      "2/2 [==============================] - 0s 7ms/step\n",
      "[CV] END activation=relu, hidden_layer_sizes=(8, 4), optimizer=adam; total time=   3.5s\n",
      "2/2 [==============================] - 0s 5ms/step\n",
      "[CV] END activation=relu, hidden_layer_sizes=(8, 4), optimizer=adam; total time=   3.5s\n",
      "2/2 [==============================] - 0s 5ms/step\n",
      "[CV] END activation=relu, hidden_layer_sizes=(8, 4), optimizer=adam; total time=   3.7s\n",
      "[CV] END activation=relu, hidden_layer_sizes=(8, 4), optimizer=lbfgs; total time=   0.0s\n",
      "[CV] END activation=relu, hidden_layer_sizes=(8, 4), optimizer=lbfgs; total time=   0.0s\n",
      "[CV] END activation=relu, hidden_layer_sizes=(8, 4), optimizer=lbfgs; total time=   0.0s\n",
      "[CV] END activation=relu, hidden_layer_sizes=(8, 4), optimizer=lbfgs; total time=   0.0s\n",
      "[CV] END activation=relu, hidden_layer_sizes=(8, 4), optimizer=lbfgs; total time=   0.0s\n",
      "2/2 [==============================] - 0s 6ms/step\n",
      "[CV] END activation=relu, hidden_layer_sizes=(10, 6), optimizer=adam; total time=   3.4s\n",
      "2/2 [==============================] - 0s 5ms/step\n",
      "[CV] END activation=relu, hidden_layer_sizes=(10, 6), optimizer=adam; total time=   2.3s\n",
      "2/2 [==============================] - 0s 6ms/step\n",
      "[CV] END activation=relu, hidden_layer_sizes=(10, 6), optimizer=adam; total time=   3.5s\n",
      "2/2 [==============================] - 0s 5ms/step\n",
      "[CV] END activation=relu, hidden_layer_sizes=(10, 6), optimizer=adam; total time=   2.4s\n",
      "2/2 [==============================] - 0s 5ms/step\n",
      "[CV] END activation=relu, hidden_layer_sizes=(10, 6), optimizer=adam; total time=   2.4s\n",
      "[CV] END activation=relu, hidden_layer_sizes=(10, 6), optimizer=lbfgs; total time=   0.0s\n",
      "[CV] END activation=relu, hidden_layer_sizes=(10, 6), optimizer=lbfgs; total time=   0.0s\n",
      "[CV] END activation=relu, hidden_layer_sizes=(10, 6), optimizer=lbfgs; total time=   0.0s\n",
      "[CV] END activation=relu, hidden_layer_sizes=(10, 6), optimizer=lbfgs; total time=   0.0s\n",
      "[CV] END activation=relu, hidden_layer_sizes=(10, 6), optimizer=lbfgs; total time=   0.1s\n",
      "2/2 [==============================] - 0s 7ms/step\n",
      "[CV] END activation=relu, hidden_layer_sizes=(6, 10), optimizer=adam; total time=   3.5s\n",
      "2/2 [==============================] - 0s 9ms/step\n",
      "[CV] END activation=relu, hidden_layer_sizes=(6, 10), optimizer=adam; total time=   3.7s\n",
      "2/2 [==============================] - 0s 5ms/step\n",
      "[CV] END activation=relu, hidden_layer_sizes=(6, 10), optimizer=adam; total time=   2.3s\n",
      "2/2 [==============================] - 0s 6ms/step\n",
      "[CV] END activation=relu, hidden_layer_sizes=(6, 10), optimizer=adam; total time=   3.5s\n",
      "2/2 [==============================] - 0s 6ms/step\n",
      "[CV] END activation=relu, hidden_layer_sizes=(6, 10), optimizer=adam; total time=   2.4s\n",
      "[CV] END activation=relu, hidden_layer_sizes=(6, 10), optimizer=lbfgs; total time=   0.1s\n",
      "[CV] END activation=relu, hidden_layer_sizes=(6, 10), optimizer=lbfgs; total time=   0.0s\n",
      "[CV] END activation=relu, hidden_layer_sizes=(6, 10), optimizer=lbfgs; total time=   0.0s\n",
      "[CV] END activation=relu, hidden_layer_sizes=(6, 10), optimizer=lbfgs; total time=   0.1s\n",
      "[CV] END activation=relu, hidden_layer_sizes=(6, 10), optimizer=lbfgs; total time=   0.0s\n"
     ]
    },
    {
     "name": "stderr",
     "output_type": "stream",
     "text": [
      "/usr/local/lib/python3.10/dist-packages/sklearn/model_selection/_validation.py:378: FitFailedWarning: \n",
      "40 fits failed out of a total of 80.\n",
      "The score on these train-test partitions for these parameters will be set to nan.\n",
      "If these failures are not expected, you can try to debug them by setting error_score='raise'.\n",
      "\n",
      "Below are more details about the failures:\n",
      "--------------------------------------------------------------------------------\n",
      "40 fits failed with the following error:\n",
      "Traceback (most recent call last):\n",
      "  File \"/usr/local/lib/python3.10/dist-packages/sklearn/model_selection/_validation.py\", line 686, in _fit_and_score\n",
      "    estimator.fit(X_train, y_train, **fit_params)\n",
      "  File \"<ipython-input-29-d64c0afa1ea5>\", line 39, in fit\n",
      "    value_and_gradients_function=tfp.math.value_and_gradient(loss_fn),\n",
      "  File \"/usr/local/lib/python3.10/dist-packages/tensorflow_probability/python/math/gradient.py\", line 108, in value_and_gradient\n",
      "    return _value_and_grad_impl(\n",
      "  File \"/usr/local/lib/python3.10/dist-packages/tensorflow_probability/python/math/gradient.py\", line 354, in _value_and_grad_impl\n",
      "    raise ValueError('Gradient is not defined unless at least one of `arg` or '\n",
      "ValueError: Gradient is not defined unless at least one of `arg` or `kwarg` is specified.\n",
      "\n",
      "  warnings.warn(some_fits_failed_message, FitFailedWarning)\n",
      "/usr/local/lib/python3.10/dist-packages/sklearn/model_selection/_search.py:952: UserWarning: One or more of the test scores are non-finite: [-0.86805784         nan -0.85854256         nan -0.79346185         nan\n",
      " -0.81922295         nan -2.61790291         nan -1.66322072         nan\n",
      " -1.56333148         nan -3.54529744         nan]\n",
      "  warnings.warn(\n"
     ]
    },
    {
     "name": "stdout",
     "output_type": "stream",
     "text": [
      "Best parameters: {'activation': 'tanh', 'hidden_layer_sizes': (10, 6), 'optimizer': 'adam'}\n",
      "Best score: -0.793461852614519\n",
      "2/2 [==============================] - 0s 5ms/step\n"
     ]
    },
    {
     "data": {
      "image/png": "[encoded data removed]",
      "text/plain": [
       "<Figure size 640x480 with 1 Axes>"
      ]
     },
     "metadata": {},
     "output_type": "display_data"
    }
   ],
   "source": [
    "import numpy as np\n",
    "import matplotlib.pyplot as plt\n",
    "import tensorflow as tf\n",
    "from tensorflow.keras.models import Sequential\n",
    "from tensorflow.keras.layers import Dense\n",
    "from tensorflow.keras.optimizers import Adam\n",
    "from sklearn.model_selection import GridSearchCV\n",
    "from sklearn.base import BaseEstimator, RegressorMixin\n",
    "from sklearn.metrics import mean_squared_error\n",
    "import tensorflow_probability as tfp\n",
    "\n",
    "class KerasRegressorWrapper(BaseEstimator, RegressorMixin):\n",
    "    def __init__(self, hidden_layer_sizes=(4, 8), activation='relu', optimizer='adam', epochs=100):\n",
    "        self.hidden_layer_sizes = hidden_layer_sizes\n",
    "        self.activation = activation\n",
    "        self.optimizer = optimizer\n",
    "        self.epochs = epochs\n",
    "        self.model = None\n",
    "\n",
    "    def build_model(self):\n",
    "        model = Sequential()\n",
    "        model.add(Dense(self.hidden_layer_sizes[0], input_dim=1, activation=self.activation))\n",
    "        for layer_size in self.hidden_layer_sizes[1:]:\n",
    "            model.add(Dense(layer_size, activation=self.activation))\n",
    "        model.add(Dense(1))  # Output layer\n",
    "        return model\n",
    "\n",
    "    def fit(self, X, y):\n",
    "        self.model = self.build_model()\n",
    "\n",
    "        if self.optimizer == 'adam':\n",
    "            self.model.compile(optimizer=Adam(), loss='mean_squared_error')\n",
    "            self.model.fit(X, y, epochs=self.epochs, verbose=0)\n",
    "        elif self.optimizer == 'lbfgs':\n",
    "            def loss_fn():\n",
    "                return MeanSquaredError()(y, self.model(X))\n",
    "\n",
    "            results = tfp.optimizer.lbfgs_minimize(\n",
    "                value_and_gradients_function=tfp.math.value_and_gradient(loss_fn),\n",
    "                initial_position=tf.Variable(self.model.trainable_weights),\n",
    "                num_correction_pairs=10,\n",
    "                tolerance=1e-8,\n",
    "                x_tolerance=0,\n",
    "                f_relative_tolerance=0,\n",
    "                maximum_iterations=self.epochs\n",
    "            )\n",
    "\n",
    "            # Manually assign the optimized weights back to the model\n",
    "            self.model.set_weights([w.numpy() for w in results.position])\n",
    "\n",
    "        return self\n",
    "\n",
    "    def predict(self, X):\n",
    "        return self.model.predict(X)\n",
    "\n",
    "    def score(self, X, y):\n",
    "        y_pred = self.predict(X)\n",
    "        return -mean_squared_error(y, y_pred)\n",
    "\n",
    "# Sample data\n",
    "x = np.arange(-1.5, 1.5, 0.01).reshape(-1, 1)\n",
    "y = np.sin(2 * np.pi * x).ravel()\n",
    "\n",
    "# Define hyperparameter grid\n",
    "param_grid = {\n",
    "    'hidden_layer_sizes': [(4, 8), (8, 4), (10, 6), (6, 10)],\n",
    "    'activation': ['tanh', 'relu'],\n",
    "    'optimizer': ['adam', 'lbfgs']\n",
    "}\n",
    "\n",
    "# Initialize the KerasRegressorWrapper\n",
    "model = KerasRegressorWrapper(epochs=100)  # Reduced epochs for demonstration\n",
    "\n",
    "# Perform grid search\n",
    "grid_search = GridSearchCV(estimator=model, param_grid=param_grid, cv=5, verbose=2)\n",
    "grid_search.fit(x, y)\n",
    "\n",
    "# Display best parameters and score\n",
    "best_params = grid_search.best_params_\n",
    "best_score = grid_search.best_score_\n",
    "print(\"Best parameters:\", best_params)\n",
    "print(\"Best score:\", best_score)\n",
    "\n",
    "# Predict with the best model\n",
    "test_x = np.arange(-1.5, 1.5, 0.05).reshape(-1, 1)\n",
    "test_y = grid_search.predict(test_x)\n",
    "\n",
    "# Plot results\n",
    "fig = plt.figure()\n",
    "ax1 = fig.add_subplot(111)\n",
    "ax1.scatter(x, y, s=1, c='b', marker=\"s\", label='real')\n",
    "ax1.scatter(test_x, test_y, s=10, c='r', marker=\"o\", label='NN Prediction')\n",
    "plt.legend()\n",
    "plt.show()\n"
   ]
  },
  {
   "cell_type": "markdown",
   "id": "9b2217b4",
   "metadata": {},
   "source": [
    "### Random Search\n",
    "\n",
    "Random Search is a hyperparameter optimization technique that selects random combinations of hyperparameters to train the model. Unlike Grid Search, which systematically tries every combination within the hyperparameter space, Random Search randomly samples the space and evaluates sets of hyperparameters from a specified distribution.\n",
    "\n",
    "- **Efficiency**: Random Search can be more efficient than Grid Search, especially when dealing with a large number of hyperparameters. It has a higher chance of finding a good solution with fewer iterations because it does not waste time evaluating every possible combination.\n",
    "  \n",
    "- **Flexibility**: It allows for a broader search range and is not limited to a predefined grid, making it more adaptable to finding optimal hyperparameter values that are not aligned with the grid points.\n",
    "\n",
    "- **Simplicity**: The implementation of Random Search is straightforward and does not require complex setup, making it accessible for a wide range of optimization problems.\n",
    "\n",
    "#### Differences Between Random Search and Grid Search:\n",
    "\n",
    "- **Search Methodology**: Grid Search systematically explores every combination in the grid, leading to exhaustive and sometimes computationally expensive searches. Random Search, in contrast, samples combinations randomly, potentially reducing the search time.\n",
    "  \n",
    "- **Performance in High-dimensional Space**: In spaces with a large number of hyperparameters, Grid Search's performance degrades significantly as the number of combinations increases exponentially. Random Search is less affected by the dimensionality of the hyperparameter space.\n",
    "\n",
    "- **Probability of Finding Optimal Parameters**: While Grid Search guarantees that the optimal parameters within the grid will be found, Random Search does not offer such a guarantee. However, studies have shown that Random Search has a higher efficiency for the computational budget, often finding a close-to-optimal solution with far fewer iterations than Grid Search, particularly in high-dimensional spaces.\n",
    "\n",
    "#### Procedure\n",
    "\n",
    "1. **Define the hyperparameter distributions:** Create a dictionary where each key represents a hyperparameter and the value is a probability distribution function (e.g., `np.logspace`) for randomly sampling values during the search.\n",
    "2. **Create a model:** Instantiate the model you wish to train (e.g., LogisticRegression, Neural Network).\n",
    "3. **Instantiate the RandomizedSearchCV object:** Provide the model, hyperparameter distributions, and the desired number of iterations (`n_iter`) to the `RandomizedSearchCV` function.\n",
    "4. **Fit the model:** Apply the `fit` method to the `RandomizedSearchCV` object, passing your training data (features `X` and labels `y`).\n",
    "5. **Retrieve results:** Access the best hyperparameters using `best_params_` and the best score with `best_score_`.\n"
   ]
  },
  {
   "cell_type": "code",
   "execution_count": 4,
   "id": "b8afeecd",
   "metadata": {},
   "outputs": [
    {
     "name": "stdout",
     "output_type": "stream",
     "text": [
      "Best parameters: {'solver': 'lbfgs', 'learning_rate_init': 0.2, 'hidden_layer_sizes': (10, 6), 'activation': 'tanh'}\n",
      "Best score: 0.34311940009118236\n"
     ]
    },
    {
     "data": {
      "image/png": "[encoded data removed]",
      "text/plain": [
       "<Figure size 432x288 with 1 Axes>"
      ]
     },
     "metadata": {
      "needs_background": "light"
     },
     "output_type": "display_data"
    }
   ],
   "source": [
    "from sklearn.neural_network import MLPRegressor\n",
    "from sklearn.model_selection import RandomizedSearchCV\n",
    "import numpy as np\n",
    "import matplotlib.pyplot as plt\n",
    "\n",
    "x = np.arange(-1.5, 1.5, 0.01).reshape(-1, 1)\n",
    "y = np.sin(2 * np.pi * x).ravel()\n",
    "\n",
    "# Expanded hyperparameter grid for random search\n",
    "param_distributions = {\n",
    "    'hidden_layer_sizes': [(4, 8), (8, 4), (10, 6), (6, 10), (50,), (100,), (50, 50), (100, 100)],\n",
    "    'activation': ['tanh', 'relu'],\n",
    "    'solver': ['lbfgs', 'adam'],\n",
    "    'learning_rate_init': [0.001, 0.01, 0.1, 0.2]\n",
    "}\n",
    "\n",
    "# Create model\n",
    "nn = MLPRegressor(\n",
    "    max_iter=5000,\n",
    "    random_state=9\n",
    ")\n",
    "\n",
    "# Perform random search with 20 iterations\n",
    "random_search = RandomizedSearchCV(nn, param_distributions, n_iter=20, cv=5)\n",
    "random_search.fit(x, y)\n",
    "\n",
    "# Best parameters and score\n",
    "best_params = random_search.best_params_\n",
    "best_score = random_search.best_score_\n",
    "\n",
    "print(\"Best parameters:\", best_params)\n",
    "print(\"Best score:\", best_score)\n",
    "\n",
    "# Use the best model for prediction\n",
    "best_model = random_search.best_estimator_\n",
    "test_x = np.arange(-1.5, 1.5, 0.05).reshape(-1, 1)\n",
    "test_y = best_model.predict(test_x)\n",
    "\n",
    "# Plot results\n",
    "fig = plt.figure()\n",
    "ax1 = fig.add_subplot(111)\n",
    "ax1.scatter(x, y, s=1, c='b', marker=\"s\", label='real')\n",
    "ax1.scatter(test_x, test_y, s=10, c='r', marker=\"o\", label='NN Prediction')\n",
    "plt.legend()\n",
    "plt.show()"
   ]
  },
  {
   "cell_type": "code",
   "execution_count": 44,
   "id": "96deb446",
   "metadata": {
    "colab": {
     "base_uri": "https://localhost:8080/",
     "height": 851,
     "referenced_widgets": [
      "0f01d2f6a73341e58842472bbf68fa66",
      "e8a3fccf9b8c497ea4cd3d7fabc7b382",
      "180338d862694167b7be46468eda5513",
      "02e261b633b947ee8a5887b38d9837de",
      "adfde2648e7a40f6ba9e9ae49266db77",
      "a34725bdcd5a46219681253c0cea2d26",
      "7767144221fe4e7e95aa189477ba916e",
      "8ea7c9d775474f5781cda9afb73680ac",
      "3d40ea4f667a498d85a8dbdb2971b735",
      "18416b7249784f2297e179497f84d919",
      "e84cea0608ce4e1f8fdd5e2886e74134",
      "804163eb91704c64b16198ed2bb4473d",
      "bd34d68964494976b473bad8eb8839b3",
      "a999efbcf5494739bb1f3e9282826bde",
      "2da1be05c4a243769be3414218c4f5bb",
      "db0b4c17c4de45858ca920a2d244deaf",
      "06b8c3ad6a194e3a872abca13ef4d338",
      "99723ec5c19b42ee8b5e85c1c7ded791",
      "6bbee25df89c4f5abdbc26df6c52351d",
      "1421e1b90b094dd7a708758eb100ffd0",
      "83c2314bdd9444729654c2c1981684a6",
      "1eeeae798b864d8dab61b5a924f777b7",
      "a3dc5ef4614d474aa7abc701a7521937",
      "ee6697932f974e59b33662b4242823ed",
      "dd656c91378f4e1dbb675bc8149cd513",
      "34051145f5e040fbadadcd6ab3312928",
      "89610e0bf70c4e8da6d0a2e0371a06a7",
      "12fe77041297430bbe5010fcabe7c339",
      "d22a67edcdac473bbcf8663a2231a23e",
      "612557ecb9b24fc5b1d06249402dcdca",
      "7c4bb9f177504840a356272d29411863",
      "d94f7ca028344e7f86a2de0a943f4e2a",
      "fcbed992c05f4033abdb15fb7b73767a",
      "4653b4bfdff94c65886302298ffc9f0f",
      "038678c09bdd45e1a5feb1c56eff3f46",
      "4659a14b645a4981a68894f3c972c962",
      "70b616555ab148139bef9aee64dcd412",
      "1311187f69f144bab9402350d9ed3df2",
      "1c60814262b045089153276be6e4e2af",
      "e91524db46eb47d7a00f7539538369cb",
      "b656fdea823e41c982a318e42b9cbc40",
      "87861a06e1a643a987813fce304bc5f2",
      "82373924870f455aae5115503c5b6446",
      "b183a64a7ac54c3b8990df60b3ff17fe",
      "cd8d49d9a6244fc68bfe266d1b161919",
      "83761e3686bb425696e6fcdda9d92b6e",
      "af2bcf80e7f84c5b882e98a4c4bf75c1",
      "60cbc702195f47c79208be6e8b880562",
      "cb8716417d454e349091502fa903bb4b",
      "240799e521554b5d86e03b15a8c50241",
      "41f8b9a0e4124a0cac7095bd97f89ffb",
      "128cbea830714deba8b42f94277ec561",
      "fdfd9b114f554cacbb3ff0e8cbd21fc4",
      "649f04a14b6e4c8a807c4aa996d50581",
      "3c66787d12244f5ea5524aaad9cb7977",
      "cfdbc948b5764474bff9a900bf2f552f",
      "174bf58775ef4facbe3f9f07c7466684",
      "cbed1f16a1bd4aaa9fd2851ac0283060",
      "9b36128d0e414db09023863001732b74",
      "aa3ed3921cf844fe9a90228094b4c35a",
      "2d0980629d4e429b88b78c44498b8d8e",
      "c60d451fb7b54ab2bb583ca1ea6ca871",
      "b1e08e40d6184fa0b720d0c27dee9e56",
      "f90c4b8c3e91469bb459a26a8f34a29d",
      "68eff885dd954b6ea7596f9e81a7211e",
      "7839f95cf4c2437d9e09331239889aac",
      "fd1944955888463c9f82a43eee51b297",
      "1c2fe4d251b04c0b82dc470d71de2eda",
      "ffb3b3473c4c4a1d8dc32867ed59ecc4",
      "9cae1eb24910490e9a31e85d4a03b6ba",
      "de2ee2b8dd1345f1bb3ef4fd647de947",
      "1baf041544e84e11a5152508006032f2",
      "7aaa1cb17ed5450f8a2dd51927c2a0ec",
      "f8c731e25d6641b295649f021397e8e2",
      "e82b9f2959a84830aa3076f616edba42",
      "e9d20e7fcec0468383da19e544eaabb5",
      "b7b9ac58eba6402fbeba209bbcc5a60b",
      "6b572d78c8c74e73a20a6660ad31736a",
      "e79666c7eda14565a4db74a602c512a4",
      "39c9d1062d314261b05bda3f0eec9c79",
      "4bf5eca4ce5e448091e94a42fd36529e",
      "3633fc133fa34a93be7f6d2b22b34f2d",
      "3e7cd62ba189443ba2f9896816ffbab2",
      "ffe2e0806c584e259764c255ccac9928",
      "b6059281516949f3a5ae8070a84ba2ef",
      "36280d00ec104915b0bcbd3f9c7af666",
      "4daea2f4a2a643468f393466f67442af",
      "73745f2743864b059873d661d5b1cb05",
      "a1b9919df20140b6a6d1a64590054f48",
      "063fc3dda5344cf5b029f3ddcdf66758",
      "c7b184a94a4b48a0861fd7cfe9aab2ee",
      "cba476ea234941dcbfdfa9e75710a8a4",
      "b189b3612e3a460a82cf392b93dda12c",
      "1688cd8515a84774910e83e6f99c24af",
      "9ab50389778c457687573cda0b49f899",
      "8288dfb2f9dc4f10acbd44ff2a23612f",
      "2acbeddae2754de4a02f62652c11591f",
      "59f136ca791a4a50b2719caaebb7a806",
      "6c6d5a4bf7fe41f1b4b3e580f71e299c",
      "cdcd9e44d34a4637a24f7e9b34535d6b",
      "addcefaa432346438bc97a38d72d9c30",
      "475592861134476099e8abfe1c632731",
      "3b99e06d7ef64820ae918cc7c88d0fd2",
      "22e9fb02d5d345e8883dd05ec4c9f73d",
      "1538ff0330f6459e9d4c26bfa3a67245",
      "cef0c04167784f3c8e1edb2dc39bd4d9",
      "896c822470f04041937d727da4e8db3e",
      "fefd12badb1442d4906ff05b85eeb0dc",
      "c3f481ccfa2d43778c4b55eecedf616b",
      "91f07c75919f4ebcab247f0ba236e31f",
      "0a488c4f96334425b68ed12c5d759a56",
      "3e2a19e94ada47aab8e2cdce2cda4548",
      "2d977af2f9af4f99a5102050400bbcf8",
      "376b6502927743c7bd18d01af359103d",
      "af1b555ce23c4270867787d79f4d5373",
      "607388ef776746b7a84d924597eee5ab",
      "131ea8259cfd4408a09f6a5015276d89",
      "15faf36e42324e58b92a2ab0f1c5bd78",
      "aa9d2cc4aab140d2aaec3764dba5982c",
      "461fcfb56da645e1b37a062ba6da1c73",
      "bcfd792f54a74798b9ec5aaecc827fcc"
     ]
    },
    "id": "MYfb3wxbVmuk",
    "outputId": "1c4bc8ea-94e7-4602-aff4-1081ab7f2d9b"
   },
   "outputs": [
    {
     "name": "stdout",
     "output_type": "stream",
     "text": [
      "Fitting 3 folds for each of 30 candidates, totalling 90 fits\n"
     ]
    },
    {
     "data": {
      "application/vnd.jupyter.widget-view+json": {
       "model_id": "0f01d2f6a73341e58842472bbf68fa66",
       "version_major": 2,
       "version_minor": 0
      },
      "text/plain": [
       "0epoch [00:00, ?epoch/s]"
      ]
     },
     "metadata": {},
     "output_type": "display_data"
    },
    {
     "data": {
      "application/vnd.jupyter.widget-view+json": {
       "model_id": "804163eb91704c64b16198ed2bb4473d",
       "version_major": 2,
       "version_minor": 0
      },
      "text/plain": [
       "  0%|          | 0.00/30.0 [00:00<?, ?batch/s]"
      ]
     },
     "metadata": {},
     "output_type": "display_data"
    },
    {
     "data": {
      "application/vnd.jupyter.widget-view+json": {
       "model_id": "a3dc5ef4614d474aa7abc701a7521937",
       "version_major": 2,
       "version_minor": 0
      },
      "text/plain": [
       "  0%|          | 0.00/30.0 [00:00<?, ?batch/s]"
      ]
     },
     "metadata": {},
     "output_type": "display_data"
    },
    {
     "data": {
      "application/vnd.jupyter.widget-view+json": {
       "model_id": "4653b4bfdff94c65886302298ffc9f0f",
       "version_major": 2,
       "version_minor": 0
      },
      "text/plain": [
       "  0%|          | 0.00/30.0 [00:00<?, ?batch/s]"
      ]
     },
     "metadata": {},
     "output_type": "display_data"
    },
    {
     "data": {
      "application/vnd.jupyter.widget-view+json": {
       "model_id": "cd8d49d9a6244fc68bfe266d1b161919",
       "version_major": 2,
       "version_minor": 0
      },
      "text/plain": [
       "  0%|          | 0.00/30.0 [00:00<?, ?batch/s]"
      ]
     },
     "metadata": {},
     "output_type": "display_data"
    },
    {
     "data": {
      "application/vnd.jupyter.widget-view+json": {
       "model_id": "cfdbc948b5764474bff9a900bf2f552f",
       "version_major": 2,
       "version_minor": 0
      },
      "text/plain": [
       "  0%|          | 0.00/30.0 [00:00<?, ?batch/s]"
      ]
     },
     "metadata": {},
     "output_type": "display_data"
    },
    {
     "data": {
      "application/vnd.jupyter.widget-view+json": {
       "model_id": "fd1944955888463c9f82a43eee51b297",
       "version_major": 2,
       "version_minor": 0
      },
      "text/plain": [
       "  0%|          | 0.00/30.0 [00:00<?, ?batch/s]"
      ]
     },
     "metadata": {},
     "output_type": "display_data"
    },
    {
     "data": {
      "application/vnd.jupyter.widget-view+json": {
       "model_id": "6b572d78c8c74e73a20a6660ad31736a",
       "version_major": 2,
       "version_minor": 0
      },
      "text/plain": [
       "  0%|          | 0.00/30.0 [00:00<?, ?batch/s]"
      ]
     },
     "metadata": {},
     "output_type": "display_data"
    },
    {
     "data": {
      "application/vnd.jupyter.widget-view+json": {
       "model_id": "a1b9919df20140b6a6d1a64590054f48",
       "version_major": 2,
       "version_minor": 0
      },
      "text/plain": [
       "  0%|          | 0.00/30.0 [00:00<?, ?batch/s]"
      ]
     },
     "metadata": {},
     "output_type": "display_data"
    },
    {
     "data": {
      "application/vnd.jupyter.widget-view+json": {
       "model_id": "cdcd9e44d34a4637a24f7e9b34535d6b",
       "version_major": 2,
       "version_minor": 0
      },
      "text/plain": [
       "  0%|          | 0.00/30.0 [00:00<?, ?batch/s]"
      ]
     },
     "metadata": {},
     "output_type": "display_data"
    },
    {
     "data": {
      "application/vnd.jupyter.widget-view+json": {
       "model_id": "0a488c4f96334425b68ed12c5d759a56",
       "version_major": 2,
       "version_minor": 0
      },
      "text/plain": [
       "  0%|          | 0.00/30.0 [00:00<?, ?batch/s]"
      ]
     },
     "metadata": {},
     "output_type": "display_data"
    },
    {
     "name": "stdout",
     "output_type": "stream",
     "text": [
      "Best parameters: {'optimizer': 'SGD', 'learning_rate': 0.001, 'hidden_layer_sizes': (2, 4), 'activation': 'relu'}\n",
      "Best score: -0.055344271788075626\n",
      "2/2 [==============================] - 0s 6ms/step\n"
     ]
    },
    {
     "data": {
      "image/png": "[encoded data removed]",
      "text/plain": [
       "<Figure size 640x480 with 1 Axes>"
      ]
     },
     "metadata": {},
     "output_type": "display_data"
    }
   ],
   "source": [
    "%matplotlib inline\n",
    "import numpy as np\n",
    "import matplotlib.pyplot as plt\n",
    "from tensorflow.keras.models import Sequential\n",
    "from tensorflow.keras.layers import Dense\n",
    "from tensorflow.keras.optimizers import Adam\n",
    "from sklearn.model_selection import RandomizedSearchCV\n",
    "from sklearn.base import BaseEstimator, RegressorMixin\n",
    "from tqdm.keras import TqdmCallback\n",
    "\n",
    "class KerasRegressorWrapper(BaseEstimator, RegressorMixin):\n",
    "    def __init__(self, hidden_layer_sizes=(4, 8), activation='relu', optimizer='adam', learning_rate=0.001, epochs=10, batch_size=10):\n",
    "        self.hidden_layer_sizes = hidden_layer_sizes\n",
    "        self.activation = activation\n",
    "        self.optimizer = optimizer\n",
    "        self.learning_rate = learning_rate\n",
    "        self.epochs = epochs\n",
    "        self.batch_size = batch_size\n",
    "        self.model = self.build_model()\n",
    "\n",
    "    def build_model(self):\n",
    "        model = Sequential()\n",
    "        model.add(Dense(self.hidden_layer_sizes[0], input_dim=1, activation=self.activation))\n",
    "        for layer_size in self.hidden_layer_sizes[1:]:\n",
    "            model.add(Dense(layer_size, activation=self.activation))\n",
    "        model.add(Dense(1))  # Output layer\n",
    "\n",
    "        if self.optimizer == 'adam':\n",
    "            optimizer = Adam(learning_rate=self.learning_rate)\n",
    "        else:\n",
    "            optimizer = self.optimizer  # This assumes 'SGD' or any other string keras optimizers if not 'adam'\n",
    "\n",
    "        model.compile(loss='mean_squared_error', optimizer=optimizer)\n",
    "        return model\n",
    "\n",
    "    def fit(self, X, y):\n",
    "        self.model.fit(X, y, epochs=self.epochs, batch_size=self.batch_size, verbose=0, callbacks=[TqdmCallback(verbose=2)])\n",
    "        return self\n",
    "\n",
    "    def predict(self, X):\n",
    "        return self.model.predict(X)\n",
    "\n",
    "x = np.arange(-1.5, 1.5, 0.01).reshape(-1, 1)\n",
    "y = np.sin(2 * np.pi * x).ravel()\n",
    "\n",
    "param_distributions = {\n",
    "    'hidden_layer_sizes': [(4, 0), (2, 4), (4, 8), (8, 4), (10, 6), (6, 10), (12, 8), (8, 12)],\n",
    "    'activation': ['tanh', 'relu'],\n",
    "    'optimizer': ['adam', 'SGD'],\n",
    "    'learning_rate': [1, 0.1, 0.01, 0.001, 0.0001, 0.00001]\n",
    "}\n",
    "\n",
    "model = KerasRegressorWrapper()\n",
    "\n",
    "random_search = RandomizedSearchCV(estimator=model, param_distributions=param_distributions, n_iter=30, cv=3, n_jobs=-1, verbose=2)\n",
    "random_search.fit(x, y)\n",
    "\n",
    "best_params = random_search.best_params_\n",
    "best_score = random_search.best_score_\n",
    "\n",
    "print(\"Best parameters:\", best_params)\n",
    "print(\"Best score:\", best_score)\n",
    "\n",
    "test_x = np.arange(-1.5, 1.5, 0.05).reshape(-1, 1)\n",
    "test_y = random_search.predict(test_x)\n",
    "\n",
    "fig = plt.figure()\n",
    "ax1 = fig.add_subplot(111)\n",
    "ax1.scatter(x, y, s=1, c='b', marker=\"s\", label='real')\n",
    "ax1.scatter(test_x, test_y, s=10, c='r', marker=\"o\", label='NN Prediction')\n",
    "plt.legend()\n",
    "plt.show()\n"
   ]
  },
  {
   "cell_type": "markdown",
   "id": "a5f99934",
   "metadata": {},
   "source": [
    "### Adjusting Hyperparameters Based on Computational Resources\n",
    "\n",
    "When performing hyperparameter tuning, such as random search or grid search, the choice of hyperparameters like the number of cross-validation folds (`cv`), the number of epochs for training, and the batch size can significantly impact both the performance of your model and the computational resources required.\n",
    "\n",
    "- **Cross-Validation Folds (`cv`):** Increasing the number of folds in cross-validation (`cv`) generally leads to a more reliable estimation of model performance due to training on multiple train-test splits. However, more folds also mean more training cycles, which can substantially increase computational time and resources needed, especially with large datasets and complex models.\n",
    "\n",
    "- **Number of Epochs:** The number of epochs determines how many times the learning algorithm will work through the entire training dataset. More epochs can lead to better model performance, as the model has more opportunities to learn and converge to a good set of weights. However, too many epochs can also lead to overfitting and increased training time. It's essential to balance the number of epochs with early stopping criteria to optimize performance without unnecessary computation.\n",
    "\n",
    "- **Batch Size:** The batch size determines the number of samples that will be propagated through the network in one forward/backward pass. Smaller batch sizes often lead to faster convergence but can be more noisy and less stable. Larger batch sizes provide more stable and accurate gradient estimates but can be slower and require more memory. Depending on your computational resources, you might opt for a larger batch size to make better use of parallel processing capabilities of GPUs, or a smaller batch size if you're limited by memory.\n",
    "\n",
    "Depending on your available **computational resources** and the **specific requirements** of your problem, you can adjust these parameters to find the right balance between computational efficiency and model performance. For instance, if you have access to powerful computing resources, you might opt for a higher number of `cv` folds, more epochs, and adjust the batch size to fully utilize the available hardware. Conversely, with limited resources, you might choose fewer `cv` folds, fewer epochs, and a smaller batch size to ensure the computations are feasible.\n",
    "\n",
    "It's always a good practice to start with smaller scale experiments to estimate the time and resources required, and then scale up as needed and as resources allow.\n"
   ]
  },
  {
   "cell_type": "markdown",
   "id": "7795136d",
   "metadata": {},
   "source": [
    "### Using Evolutionary Algorithms for Hyperparameter Optimization (HPO)\n",
    "\n",
    "Evolutionary Algorithms (EAs) such as Genetic Algorithms (GAs) are inspired by the process of natural selection and genetics. These algorithms are a class of optimization techniques that mimic biological evolution to find optimal solutions in complex search spaces, making them suitable for HPO tasks.\n",
    "\n",
    "#### How Genetic Algorithms Work:\n",
    "\n",
    "1. **Initialization:** Begin with a randomly generated population of individuals. Each individual represents a potential solution to the problem, encoded as a chromosome (a string of genes). In the context of HPO, each gene could represent a hyperparameter value.\n",
    "\n",
    "2. **Evaluation:** Calculate the fitness of each individual in the population. The fitness function assesses how well an individual solves the problem, which, in HPO, could be the performance of a model trained with the hyperparameters represented by the individual.\n",
    "\n",
    "3. **Selection:** Select individuals to form a new generation. Individuals are chosen based on their fitness, with higher fitness individuals being more likely to be selected. This process mimics natural selection.\n",
    "\n",
    "4. **Crossover (Recombination):** Combine pairs of individuals (parents) to create offspring for the next generation. Crossover involves swapping parts of the parents' chromosomes, introducing new combinations of genes.\n",
    "\n",
    "5. **Mutation:** Introduce random changes to the offspring's chromosomes to maintain genetic diversity in the population. This step prevents the algorithm from converging prematurely to suboptimal solutions.\n",
    "\n",
    "6. **Replacement:** Form a new generation by replacing some or all of the old population with the offspring. The new generation is then used in the next iteration of the algorithm.\n",
    "\n",
    "7. **Termination:** The algorithm repeats steps 2-6 until a stopping criterion is met, such as reaching a maximum number of generations or achieving a satisfactory fitness level.\n",
    "\n",
    "#### Genetic Algorithm HPO in Python:\n",
    "\n",
    "To use a Genetic Algorithm for HPO instead of Randomized Search, you would typically require a GA library or implement the GA steps yourself. Python libraries like `DEAP` (Distributed Evolutionary Algorithms in Python) can be used to implement GAs. The following is a conceptual guide on how to modify the code:\n",
    "\n",
    "1. **Define the Fitness Function:** The fitness function should train the `MLPRegressor` with a given set of hyperparameters and return a measure of model performance, such as negative mean squared error on a validation set.\n",
    "\n",
    "2. **Encode Solutions:** Define how to represent hyperparameters as a chromosome. For example, each gene in the chromosome could correspond to a specific hyperparameter (e.g., number of neurons in a layer, activation function type).\n",
    "\n",
    "3. **Initialize Population:** Create an initial population of chromosomes, each representing a set of hyperparameters.\n",
    "\n",
    "4. **Implement GA Operations:** Use or implement selection, crossover, and mutation operations to evolve the population over generations.\n",
    "\n",
    "5. **Integrate with MLPRegressor:** Ensure that each individual's chromosome is decoded into a set of hyperparameters used to configure and train the `MLPRegressor`.\n"
   ]
  },
  {
   "cell_type": "code",
   "execution_count": 8,
   "id": "f508c8a2",
   "metadata": {},
   "outputs": [],
   "source": [
    "!pip install deap>null"
   ]
  },
  {
   "cell_type": "code",
   "execution_count": 47,
   "id": "522af999",
   "metadata": {
    "colab": {
     "base_uri": "https://localhost:8080/",
     "height": 1000
    },
    "id": "fv5qAsHFm_3i",
    "outputId": "05474e14-09af-4e8e-cc6e-401cf66e2ddf"
   },
   "outputs": [
    {
     "name": "stdout",
     "output_type": "stream",
     "text": [
      "gen\tnevals\tavg   \tmin        \tmax     \n",
      "0  \t5     \t0.3201\t8.27134e-05\t0.554003\n",
      "1  \t2     \t7.8024e-05\t5.43715e-05\t8.92547e-05\n",
      "2  \t2     \t7.17265e-05\t3.89983e-05\t8.27134e-05\n",
      "3  \t4     \t5.48073e-05\t1.86663e-05\t9.26592e-05\n",
      "4  \t2     \t3.81018e-05\t1.86663e-05\t6.74186e-05\n",
      "5  \t4     \t5.40137e-05\t2.05053e-05\t9.79862e-05\n",
      "6  \t4     \t7.58954e-05\t3.53315e-05\t0.000147002\n",
      "7  \t5     \t6.25933e-05\t1.62323e-05\t0.000135039\n",
      "8  \t4     \t0.110509   \t3.88946e-05\t0.552249   \n",
      "9  \t2     \t9.26755e-05\t3.88946e-05\t0.000194805\n",
      "10 \t3     \t9.27171e-05\t1.77445e-05\t0.000264614\n",
      "11 \t4     \t4.57646e-05\t1.77445e-05\t9.65155e-05\n",
      "12 \t4     \t5.36872e-05\t1.77445e-05\t9.47661e-05\n",
      "13 \t2     \t4.5421e-05 \t1.77445e-05\t8.12451e-05\n",
      "14 \t2     \t3.16377e-05\t1.77445e-05\t4.51306e-05\n",
      "15 \t4     \t4.18683e-05\t1.77445e-05\t8.35198e-05\n",
      "16 \t2     \t4.6447e-05 \t1.77445e-05\t0.000111259\n",
      "17 \t1     \t3.0057e-05 \t1.77445e-05\t6.99055e-05\n",
      "18 \t4     \t5.53063e-05\t1.77445e-05\t7.96075e-05\n",
      "19 \t3     \t7.78611e-05\t3.80075e-05\t0.000192031\n",
      "20 \t4     \t0.00239111 \t3.80075e-05\t0.0117062  \n",
      "21 \t5     \t2.8682e-05 \t8.58376e-06\t4.90693e-05\n",
      "22 \t2     \t3.27584e-05\t8.58376e-06\t0.000103547\n",
      "23 \t4     \t6.85598e-05\t8.58376e-06\t0.000152633\n",
      "24 \t3     \t4.90157e-05\t2.26741e-05\t7.04607e-05\n",
      "25 \t4     \t8.63928e-05\t2.26741e-05\t0.000154817\n",
      "26 \t4     \t0.000650812\t4.47903e-05\t0.0028876  \n",
      "27 \t2     \t6.85089e-05\t3.49042e-05\t0.000129483\n",
      "28 \t4     \t0.103357   \t2.15517e-05\t0.516648   \n",
      "29 \t3     \t3.51142e-05\t2.12521e-05\t6.03727e-05\n",
      "30 \t4     \t5.14165e-05\t2.12521e-05\t6.7299e-05 \n",
      "Best Individual: [(6, 10), 'tanh', 'lbfgs', 0.001], MSE: 8.58375695028882e-06\n"
     ]
    },
    {
     "data": {
      "image/png": "[encoded data removed]",
      "text/plain": [
       "<Figure size 640x480 with 1 Axes>"
      ]
     },
     "metadata": {},
     "output_type": "display_data"
    }
   ],
   "source": [
    "import numpy as np\n",
    "import matplotlib.pyplot as plt\n",
    "from sklearn.neural_network import MLPRegressor\n",
    "from sklearn.model_selection import train_test_split\n",
    "from sklearn.metrics import mean_squared_error\n",
    "from deap import base, creator, tools, algorithms\n",
    "import random\n",
    "\n",
    "# Problem data\n",
    "x = np.arange(-1.5, 1.5, 0.01).reshape(-1, 1)\n",
    "y = np.sin(2 * np.pi * x).ravel()\n",
    "\n",
    "# Hyperparameter space\n",
    "hidden_layer_sizes = [(4, 8), (8, 4), (10, 6), (6, 10), (50,), (100,), (50, 50), (100, 100)]\n",
    "activations = ['tanh', 'relu']\n",
    "solvers = ['lbfgs', 'adam']\n",
    "learning_rates = [0.001, 0.01, 0.1, 0.2]\n",
    "\n",
    "# DEAP setup\n",
    "creator.create(\"FitnessMin\", base.Fitness, weights=(-1.0,))\n",
    "creator.create(\"Individual\", list, fitness=creator.FitnessMin)\n",
    "\n",
    "def create_individual():\n",
    "    return [\n",
    "        random.choice(hidden_layer_sizes),\n",
    "        random.choice(activations),\n",
    "        random.choice(solvers),\n",
    "        random.choice(learning_rates)\n",
    "    ]\n",
    "\n",
    "def eval_mlp(individual):\n",
    "    x_train, x_test, y_train, y_test = train_test_split(x, y, test_size=0.2, random_state=42)\n",
    "\n",
    "    model = MLPRegressor(hidden_layer_sizes=individual[0],\n",
    "                         activation=individual[1],\n",
    "                         solver=individual[2],\n",
    "                         learning_rate_init=individual[3],\n",
    "                         max_iter=5000)\n",
    "\n",
    "    model.fit(x_train, y_train)\n",
    "    predictions = model.predict(x_test)\n",
    "    mse = mean_squared_error(y_test, predictions)\n",
    "    return (mse,)\n",
    "\n",
    "def custom_mutate(individual, indpb):\n",
    "    if random.random() < indpb:\n",
    "        individual[0] = random.choice(hidden_layer_sizes)\n",
    "\n",
    "    if random.random() < indpb:\n",
    "        individual[1] = random.choice(activations)\n",
    "\n",
    "    if random.random() < indpb:\n",
    "        individual[2] = random.choice(solvers)\n",
    "\n",
    "    if random.random() < indpb:\n",
    "        individual[3] = random.choice(learning_rates)\n",
    "\n",
    "    return individual,\n",
    "\n",
    "toolbox = base.Toolbox()\n",
    "toolbox.register(\"individual\", tools.initIterate, creator.Individual, create_individual)\n",
    "toolbox.register(\"population\", tools.initRepeat, list, toolbox.individual)\n",
    "toolbox.register(\"mate\", tools.cxTwoPoint)\n",
    "toolbox.register(\"mutate\", custom_mutate, indpb=0.2)\n",
    "toolbox.register(\"select\", tools.selTournament, tournsize=3)\n",
    "toolbox.register(\"evaluate\", eval_mlp)\n",
    "\n",
    "# Genetic Algorithm parameters\n",
    "population_size = 5\n",
    "crossover_probability = 0.7\n",
    "mutation_probability = 0.2\n",
    "number_of_generations = 30\n",
    "\n",
    "# Run the Genetic Algorithm\n",
    "population = toolbox.population(n=population_size)\n",
    "hof = tools.HallOfFame(1)\n",
    "stats = tools.Statistics(lambda ind: ind.fitness.values)\n",
    "stats.register(\"avg\", np.mean)\n",
    "stats.register(\"min\", np.min)\n",
    "stats.register(\"max\", np.max)\n",
    "\n",
    "algorithms.eaSimple(population, toolbox, cxpb=crossover_probability, mutpb=mutation_probability,\n",
    "                    ngen=number_of_generations, stats=stats, halloffame=hof, verbose=True)\n",
    "\n",
    "# Display the best individual's hyperparameters and its performance\n",
    "best_individual = hof.items[0]\n",
    "print(f\"Best Individual: {best_individual}, MSE: {best_individual.fitness.values[0]}\")\n",
    "\n",
    "# Predictions with the best model\n",
    "test_x = np.arange(-1.5, 1.5, 0.05).reshape(-1, 1)\n",
    "best_model = MLPRegressor(hidden_layer_sizes=best_individual[0],\n",
    "                          activation=best_individual[1],\n",
    "                          solver=best_individual[2],\n",
    "                          learning_rate_init=best_individual[3],\n",
    "                          max_iter=5000)\n",
    "best_model.fit(x, y)\n",
    "test_y = best_model.predict(test_x)\n",
    "\n",
    "# Plotting the results\n",
    "fig = plt.figure()\n",
    "ax1 = fig.add_subplot(111)\n",
    "ax1.scatter(x, y, s=1, c='b', marker=\"s\", label='real')\n",
    "ax1.scatter(test_x, test_y, s=10, c='r', marker=\"o\", label='NN Prediction')\n",
    "plt.legend()\n",
    "plt.show()\n"
   ]
  },
  {
   "cell_type": "markdown",
   "id": "740e05b4",
   "metadata": {},
   "source": [
    "### Gradient-based Hyperparameter Optimization\n",
    "\n",
    "1. Gradient-based Hyperparameter Optimization through Reversible Learning https://proceedings.mlr.press/v37/maclaurin15.pdf \n",
    "2. Forecasting in Big Data Environments: An Adaptable and Automated Shrinkage Estimation of Neural Networks (AAShNet) https://link.springer.com/article/10.1007/s40953-021-00275-7\n",
    "\n",
    "\n",
    "Gradient-based hyperparameter optimization is a sophisticated technique for tuning the hyperparameters of a model to enhance performance. This method leverages the gradient of the objective function, often the validation loss, with respect to the hyperparameters to steer the optimization process efficiently.\n",
    "\n",
    "\n",
    "#### Two-Layer Optimization Framework\n",
    "\n",
    "The optimization involves two nested loops—inner and outer—reflecting a two-layer structure:\n",
    "\n",
    "- **Inner Layer (Model Training)**: Optimizes model parameters $\\boldsymbol{\\theta}$ on the training data to minimize the training loss $\\mathcal{L}_{\\text{train}}(\\boldsymbol{\\theta}; \\boldsymbol{\\lambda})$. This is often achieved using algorithms like stochastic gradient descent (SGD).\n",
    "\n",
    "    $$\\boldsymbol{\\theta}^* = \\arg\\min_{\\boldsymbol{\\theta}} \\mathcal{L}_{\\text{train}}(\\boldsymbol{\\theta}; \\boldsymbol{\\lambda})$$\n",
    "\n",
    "- **Outer Layer (Hyperparameter Optimization)**: Adjusts hyperparameters $\\boldsymbol{\\lambda}$ to minimize the validation loss $\\mathcal{L}_{\\text{val}}(\\boldsymbol{\\theta}^*(\\boldsymbol{\\lambda}), \\boldsymbol{\\lambda})$, where $\\boldsymbol{\\theta}^*(\\boldsymbol{\\lambda})$ denotes the optimal model parameters obtained from the inner layer for a given set of hyperparameters.\n",
    "\n",
    "    $$\\boldsymbol{\\lambda}^* = \\arg\\min_{\\boldsymbol{\\lambda}} \\mathcal{L}_{\\text{val}}(\\boldsymbol{\\theta}^*(\\boldsymbol{\\lambda}), \\boldsymbol{\\lambda})$$\n",
    "\n",
    "#### Linking Hyperparameters to Validation Loss\n",
    "\n",
    "The key challenge is to compute the gradient of the validation loss with respect to hyperparameters, $\\nabla_{\\boldsymbol{\\lambda}} \\mathcal{L}_{\\text{val}}$. This involves understanding how changes in $\\boldsymbol{\\lambda}$ affect $\\boldsymbol{\\theta}^*$ and, in turn, $\\mathcal{L}_{\\text{val}}$. For differentiable hyperparameters, this can sometimes be tackled using techniques like implicit differentiation or by employing surrogate models that approximate this relationship.\n",
    "\n",
    "#### Pseudo Algorithm\n",
    "\n",
    "1. **Initialize** hyperparameters $\\boldsymbol{\\lambda}$.\n",
    "2. **Repeat** for the outer layer until convergence:\n",
    "    1. **Inner Layer Optimization**: Optimize $\\boldsymbol{\\theta}$ on the training data.\n",
    "        - $\\boldsymbol{\\theta}^* = \\arg\\min_{\\boldsymbol{\\theta}} \\mathcal{L}_{\\text{train}}(\\boldsymbol{\\theta}; \\boldsymbol{\\lambda})$\n",
    "    2. **Compute Validation Loss**: Evaluate $\\mathcal{L}_{\\text{val}}(\\boldsymbol{\\theta}^*, \\boldsymbol{\\lambda})$.\n",
    "    3. **Estimate Gradient**: Compute or approximate $\\nabla_{\\boldsymbol{\\lambda}} \\mathcal{L}_{\\text{val}}$.\n",
    "    4. **Update Hyperparameters**: $\\boldsymbol{\\lambda} = \\boldsymbol{\\lambda} - \\alpha \\nabla_{\\boldsymbol{\\lambda}} \\mathcal{L}_{\\text{val}}$, where $\\alpha$ is the learning rate for hyperparameters.\n",
    "3. **Finalize**: Choose $\\boldsymbol{\\lambda}$ that minimizes $\\mathcal{L}_{\\text{val}}$.\n",
    "\n",
    "\n",
    "Gradient-based hyperparameter optimization, especially with a two-layer framework, offers a systematic and theoretically grounded method for model tuning. By exploiting gradient information, it promises more efficient optimization than heuristic methods. The mathematical formulation and algorithmic structure laid out here highlight the method's potential and complexities, including the challenge of computing gradients with respect to hyperparameters.\n",
    "\n",
    "\n",
    "Hypergrad Python Library\n",
    "https://github.com/HIPS/hypergrad"
   ]
  }
 ],
 "metadata": {
  "kernelspec": {
   "display_name": "Python 3 (ipykernel)",
   "language": "python",
   "name": "python3"
  },
  "language_info": {
   "codemirror_mode": {
    "name": "ipython",
    "version": 3
   },
   "file_extension": ".py",
   "mimetype": "text/x-python",
   "name": "python",
   "nbconvert_exporter": "python",
   "pygments_lexer": "ipython3",
   "version": "3.10.0"
  }
 },
 "nbformat": 4,
 "nbformat_minor": 5
}
