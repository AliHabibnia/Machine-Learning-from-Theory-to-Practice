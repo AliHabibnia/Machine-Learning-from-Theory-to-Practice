{
 "cells": [
  {
   "cell_type": "markdown",
   "metadata": {
    "colab_type": "text",
    "id": "P52PoBM2A6QT"
   },
   "source": [
    "# <center><font color=navy> Machine Learning from Theory to Practice</font></center>\n",
    "## <center><font color=navy>Kernel Methods: Support Vector Machines (SVM)</font> </center>\n",
    "### <center> Ali Habibnia</center>\n",
    "\n",
    "    \n",
    "<center> Assistant Professor, Department of Economics, </center>\n",
    "<center> and Division of Computational Modeling & Data Analytics at Virginia Tech</center>\n",
    " <center> habibnia@vt.edu </center> "
   ]
  },
  {
   "cell_type": "markdown",
   "metadata": {
    "colab_type": "text",
    "id": "uye33nmJBb76"
   },
   "source": [
    "A Support Vector Machine (SVM) is a very powerful and versatile algorithm, capable of performing linear or nonlinear classification (SVC), regression (SVR), and even outlier detection. It is one of the most popular models in Machine Learning, and anyone interested in Machine Learning should have it in their toolbox. SVMs are particularly well suited for classification of complex but small- or medium-sized\n",
    "datasets.\n",
    "\n",
    "In this notebook we are going to talk about Support Vector Machines. Later, we are going to talk about the history of Machine Learning and Deep Learning in more details, but for now bear in mind that before the widespread success of Neural Networks, SVM was the method of choice for many problem."
   ]
  },
  {
   "cell_type": "markdown",
   "metadata": {
    "colab_type": "text",
    "id": "0Uv2WY3DBb_X"
   },
   "source": [
    "But why do we still learn about SVM if Neural Networks are seemingly better. Well, that's because it is not always the case. Deep learning is **not** a panacea. \n",
    "\n",
    "Each machine learning algorithm has a different inductive bias, so it's not always appropriate to use neural networks. For example a linear trend will always be learned best by simple linear regression rather than a ensemble of nonlinear networks. \n",
    "\n",
    "\n",
    "Recall **No Free Launch** theorem: No single algorithm rules them all; you've got to benchmark! However, the obvious rebuttal here is that you usually don't care about all possible problems, and deep learning seems to work well on several classes of problems that people do care about (e.g., object recognition), and so it's a reasonable first/only choice for other applications in those domains.\n",
    "\n",
    "If you take a look at the winners of past Kaggle competitions, except any challenges with image/video data, you will quickly find that neural networks are not the solution to everything. Some past solutions can be found [here](http://ndres.me/kaggle-past-solutions/).\n",
    "\n",
    "Simply put, learning about SVM is very beneficial, hence its inclusion in curriculum of most ML courses. Introduced a little more than 50 years ago, SVM has been continously evolved over time.\n"
   ]
  },
  {
   "cell_type": "markdown",
   "metadata": {
    "colab_type": "text",
    "id": "ok6WXaNMBcCs"
   },
   "source": [
    "## Can you spot the machanism?"
   ]
  },
  {
   "cell_type": "markdown",
   "metadata": {
    "colab_type": "text",
    "id": "4x2KhwV6BcFh"
   },
   "source": [
    "* Notice how the line are moving. Can you explain the mechanism?\n",
    "* The initial separating boundary already distinguishes the samples perfectly. Why would the lines move in this regard?"
   ]
  },
  {
   "cell_type": "markdown",
   "metadata": {
    "colab_type": "text",
    "id": "5R_J85sGBcIV"
   },
   "source": [
    "![SVM Animation](https://drive.google.com/uc?export=view&id=1T0F97906W_0yr8nco04lySRkfcQfs2gA)"
   ]
  },
  {
   "cell_type": "markdown",
   "metadata": {
    "colab_type": "text",
    "id": "bakQ9e6R6z3-"
   },
   "source": [
    "## Separability and Generalization"
   ]
  },
  {
   "cell_type": "markdown",
   "metadata": {
    "colab_type": "text",
    "id": "ldHOXOtvBcLS"
   },
   "source": [
    "Remember that the worth of a classifier is not in how well it separates the training data. We eventually want it to classify yet-unseen data points (known as test data). Given that, we want to choose a line that captures the general pattern in the training data, so there is a good chance it does well on the test data. You have probably guessed that we are talking about Generalization capability of the model.\n",
    "\n",
    "Take a look at the plot below with test points shown as squares:\n",
    "\n",
    "![SVM1](https://drive.google.com/uc?export=view&id=1Nee1yv8-O57xBQHHV6HxSP6ucb5K3FjC)\n",
    "\n",
    "You can see how the separating line in the left picture seems a bit skewed? As if the the lower half runs too close to the red cluster. They both perfectly classify the training samples, but the classification boundary of the right picture, on the other hand, stays as far away as possible from both the clusters while getting the training data separation right. By being right in the middle of the two clusters, it is less “risky” and gives the data distributions for each class some wiggle room, so to speak, and thus hopefully generalizes better on test data. SVMs try to find the second kind of line!\n",
    "\n",
    "Support Vector Machines give you a way to pick between many possible classifiers in a way that guarantees a higher chance of correctly labeling your test data. While the above plot shows a line and data in two dimensions, it must be noted that SVMs work in any number of dimensions; and in these dimensions, they find the analogue of the two-dimensional line. For example, in three dimensions they find a *plane* , and in higher dimensions they find a *hyperplane*.\n",
    "\n",
    "Data that can be separated by a line (or in general, a hyperplane) is known as linearly separable data. The hyperplane acts as a linear classifier.\n",
    "\n",
    "> **Support vectors** are the data points that lie closest to the decision surface (or hyperplane), hence the name of the model. They are the data points most difficult to classify. They have direct bearing on the optimum location of the decision surface.\n",
    "\n",
    "You can think of an SVM classifier as fitting the\n",
    "widest possible street (represented by the parallel dashed lines) between the classes. This is called large\n",
    "margin classification. Notice that adding more training instances “off the street” will not affect the decision boundary at all: it is\n",
    "fully determined (or “supported”) by the instances located on the edge of the street (aka support vectors).\n",
    "\n",
    "As you can deduce from the plots, SVMs are sensitive to the feature scales. Take this into account when you want to apply SVM to your dataset.\n",
    "\n",
    "![SVM Scaling](https://drive.google.com/uc?export=view&id=16g849JpgJ0eEaM5abSiTKb8cHlTCWcIS)"
   ]
  },
  {
   "cell_type": "markdown",
   "metadata": {
    "colab_type": "text",
    "id": "6gdua7W1BcOG"
   },
   "source": [
    "## Allowing for Errors"
   ]
  },
  {
   "cell_type": "markdown",
   "metadata": {
    "colab_type": "text",
    "id": "jaWjeD6NBcQ9"
   },
   "source": [
    "Above, we looked at an easy case of perfectly linearly separable data. Real-world data is, however, typically messy. You will almost always have a few instances that a linear classifier can’t get right.\n",
    "\n",
    "Here’s an example of such data:\n",
    "\n",
    "![SVM1](https://drive.google.com/uc?export=view&id=1ZqFB7sN9cvjh-QWWnE7Zx_ypaxGD0erg)\n",
    "\n",
    "Clearly, if we are using a linear classifier, we are never going to be able to perfectly separate the labels. We also don’t want to discard the linear classifier altogether because it does seem like a good fit for the problem except for a few errant points.\n",
    "\n",
    "How do SVMs deal with this? They allow you to specify how many errors you are willing to accept.\n",
    "\n",
    "You can provide a parameter called $C$ to your SVM; this allows you to dictate the tradeoff between:\n",
    "\n",
    "* Having a wide margin.\n",
    "* Correctly classifying training data. A higher value of $C$ implies you want lesser errors on the training data.\n",
    "\n",
    "It bears repeating that this is a **tradeoff**. You get better classification of training data at the expense of a wide margin.\n",
    "\n",
    "The following plots show how the classifier and the margin vary as we increase the value of $C$ (support vectors not shown):\n",
    "\n",
    "![SVM1](https://drive.google.com/uc?export=view&id=1Pb4XQFzXYau03kf0yZTgNVcXWLQ91eqC)\n",
    "\n",
    "\n",
    "Note how the line “tilts” as we increase the value of $C$. At high values, it tries to accommodate the labels of most of the red points present at the bottom right of the plots. This is probably not what we want for test data. The first plot with $C=0.01$ seems to capture the general trend better, although it suffers from a lower accuracy on the training data compared to higher values for $C$. Note how the width of the margin shrinks as we increase the value of $C$. Here, we see it’s not possible anymore to have both a good separating boundary and an associated point-free margin. Some points creep into the margin.\n",
    "\n",
    "As you have probably guessed, $C$ is a hyperparameter. To find a proper value for $C$, one may typically use a technique like **cross-validation**."
   ]
  },
  {
   "cell_type": "markdown",
   "metadata": {
    "colab_type": "text",
    "id": "Fj6eRyLyi9kv"
   },
   "source": [
    "## Algorithm"
   ]
  },
  {
   "cell_type": "markdown",
   "metadata": {
    "colab_type": "text",
    "id": "9cS6DbTujAV0"
   },
   "source": [
    "Before going forward with other interesting aspects of SVM, let's see how the algorithms works.\n",
    "\n",
    "Let:\n",
    "\n",
    "- $\\mathbf{x}$ be a feature vector (i.e., the input of the SVM). $\\mathbf{x} \\in \\mathbb{R}^n$, where $n$ is the dimension of the feature vector.\n",
    "- $y$ be the class (i.e., the output of the SVM). $y \\in \\{ -1,1\\}$, i.e. the classification task is binary. \n",
    "- $\\mathbf{w}$ and $b$ be the parameters of the SVM: we need to learn them using the training set.\n",
    "- $(\\mathbf{x}^{(i)}, y^{(i)})$ be the $i^ {\\text {th}}$ sample in the dataset. Let's assume we have $N$ samples in the training set.\n",
    "\n",
    "With $n=2$, one can represent the SVM's decision boundaries as follows:\n",
    "\n",
    "![SVM1](https://drive.google.com/uc?export=view&id=1I_7QTxtSozI-gS8hIM44AU3_VDI1DY8A)\n",
    "\n",
    "The class $y$ is determined as follows:\n",
    "\n",
    "$$ \n",
    "y^{(i)}=\\left\\{\n",
    "                \\begin{array}{ll}\n",
    "                  -1 &\\text{ if } \\mathbf{w^T}\\mathbf{x}^{(i)}+b \\leq -1 \\\\\n",
    "                  1 &\\text{ if } \\mathbf{w^T}\\mathbf{x}^{(i)}+b \\ge 1 \\\\\n",
    "                \\end{array}\n",
    "              \\right.\n",
    "$$\n",
    "\n",
    "which can be more concisely written as $y^{(i)} (\\mathbf{w^T}\\mathbf{x}^{(i)}+b) \\ge 1$.\n",
    "\n",
    "The SVM aims at satisfying two requirements:\n",
    "\n",
    "1. The SVM should maximize the distance between the two decision boundaries. Mathematically, this means we want to maximize the distance between the hyperplane defined by $\\mathbf{w^T}\\mathbf{x}+b = -1$ and the hyperplane defined by $\\mathbf{w^T}\\mathbf{x}+b = 1$. This distance is equal to $\\frac{2}{\\|\\mathbf{w}\\|}$. This means we want to solve $\\underset{\\mathbf{w}}{\\operatorname{max}} \\frac{2}{\\|\\mathbf{w}\\|}$. Equivalently we want\n",
    "$\\underset{\\mathbf{w}}{\\operatorname{min}} \\frac{\\|\\mathbf{w}\\|}{2}$.\n",
    "\n",
    "2. The SVM should also correctly classify all $\\mathbf{x}^{(i)}$, which means $y^{(i)} (\\mathbf{w^T}\\mathbf{x}^{(i)}+b) \\ge 1, \\forall i \\in \\{1,\\dots,N\\}$\n",
    "\n",
    "\n",
    "Which leads us to the following quadratic optimization problem:\n",
    "\n",
    "$$\\begin{align}\n",
    "\\min_{\\mathbf{w},b}\\quad &\\frac{\\|\\mathbf{w}\\|}{2}, \\\\\n",
    "s.t.\\quad&y^{(i)} (\\mathbf{w^T}\\mathbf{x}^{(i)}+b) \\ge 1 &\\forall i \\in \\{1,\\dots,N\\}\n",
    "\\end{align}$$\n",
    "\n",
    "This is the **hard-margin SVM**, as this quadratic optimization problem admits a solution iff the data is linearly separable. \n",
    "\n",
    "One can relax the constraints by introducing so-called **slack variables** $\\xi^{(i)}$. Note that each sample of the training set has its own slack variable. This gives us the following quadratic optimization problem:\n",
    "\n",
    "\n",
    "$$\\begin{align}\n",
    "\\min_{\\mathbf{w},b}\\quad &\\frac{\\|\\mathbf{w}\\|}{2}+ C \\sum_{i=1}^{N} \\xi^{(i)}, \\\\\n",
    "s.t.\\quad&y^{(i)} (\\mathbf{w^T}\\mathbf{x}^{(i)}+b) \\ge 1 - \\xi^{(i)},&\\forall i \\in \\{1,\\dots,N\\} \\\\\n",
    "\\quad&\\xi^{(i)}\\ge0, &\\forall i \\in \\{1,\\dots,N\\} \n",
    "\\end{align}$$\n",
    "\n",
    "This is the **soft-margin SVM**. $C$ is a hyperparameter called **penalty of the error term**.\n",
    "\n",
    "One can add even more flexibility by introducing a function $\\phi$ that maps the original feature space to a higher dimensional feature space. This allows non-linear decision boundaries. The quadratic optimization problem becomes:\n",
    "\n",
    "$$\\begin{align}\n",
    "\\min_{\\mathbf{w},b}\\quad &\\frac{\\|\\mathbf{w}\\|}{2}+ C \\sum_{i=1}^{N} \\xi^{(i)}, \\\\\n",
    "s.t.\\quad&y^{(i)} (\\mathbf{w^T}\\phi \\left(\\mathbf{x}^{(i)}\\right)+b) \\ge 1 - \\xi^{(i)},&\\forall i \\in \\{1,\\dots,N\\} \\\\\n",
    "\\quad&\\xi^{(i)}\\ge0, &\\forall i \\in \\{1,\\dots,N\\} \n",
    "\\end{align}$$\n",
    "\n",
    "\n",
    "### Optimization\n",
    "\n",
    "The quadratic optimization problem can be transformed into another optimization problem named the **Lagrangian dual problem** (the previous problem is called the **primal**):\n",
    "\n",
    "\n",
    "$$\\begin{align}\n",
    "\\max_{\\mathbf{\\alpha}}  \\quad &\\min_{\\mathbf{w},b}  \\frac{\\|\\mathbf{w}\\|}{2}+ C \\sum_{i=1}^{N} \\alpha^{(i)} \\left(1-\\mathbf{w^T}\\phi \\left(\\mathbf{x}^{(i)}\\right)+b)\\right), \\\\\n",
    "s.t. \\quad&0 \\leq  \\alpha^{(i)} \\leq C, &\\forall i \\in \\{1,\\dots,N\\} \n",
    "\\end{align}$$\n",
    "\n",
    "This optimization problem can be simplified (by setting some gradients to $0$) to:\n",
    "\n",
    "$$\\begin{align}\n",
    "\\max_{\\mathbf{\\alpha}}  \\quad & \\sum_{i=1}^{N} \\alpha^{(i)} - \\sum_{i=1}^{N}\\sum_{j=1}^{N}  \\left( y^{(i)}\\alpha^{(i)}\\phi\\left(\\mathbf{x}^{(i)}\\right)^T \\phi\\left(\\mathbf{x}^{(j)}\\right) y^{(j)}\\alpha^{(j)} \\right), \\\\\n",
    "s.t. \\quad&0 \\leq  \\alpha^{(i)} \\leq C, &\\forall i \\in \\{1,\\dots,N\\}  \n",
    "\\end{align}$$\n",
    "\n",
    "$\\mathbf{w}$ doesn't appear as $\\mathbf{w}=\\sum_{i =1}^{N}\\alpha^{(i)}y^{(i)}\\phi\\left(x^{(i)}\\right)$.\n",
    "\n",
    "We therefore learn the $\\alpha^{(i)}$ using the $(\\mathbf{x}^{(i)}, y^{(i)})$ of the training set.\n",
    "\n",
    "### Making a prediction\n",
    "\n",
    "Once the $\\alpha^{(i)}$ are learned, one can predict the class of a new sample with the feature vector $\\mathbf{x}^{\\text {test}}$ as follows:\n",
    "\n",
    "\\begin{align*}\n",
    "y^{\\text {test}}&=\\text {sign}\\left(\\mathbf{w^T}\\phi\\left(\\mathbf{x}^{\\text {test}}\\right)+b\\right) \\\\\n",
    "&= \\text {sign}\\left(\\sum_{i =1}^{N}\\alpha^{(i)}y^{(i)}\\phi\\left(x^{(i)}\\right)^T\\phi\\left(\\mathbf{x}^{\\text {test}}\\right)+b \\right)\n",
    "\\end{align*}\n",
    "\n",
    "The summation $\\sum_{i =1}^{N}$ could seem overwhelming, since it means one has to sum over all the training samples, but the vast majority of $\\alpha^{(i)}$ are $0$, so in practice it isn't an issue. $\\alpha^{{(i)}}=0$ iff $x^{{(i)}}$ is a **support vector**. The illustration above has 3 support vectors.\n",
    "\n"
   ]
  },
  {
   "cell_type": "markdown",
   "metadata": {
    "colab_type": "text",
    "id": "5g8D1VP9BcT7"
   },
   "source": [
    "## Non-linearly Separable Data"
   ]
  },
  {
   "cell_type": "markdown",
   "metadata": {
    "colab_type": "text",
    "id": "AneEkrTWBziZ"
   },
   "source": [
    "We have seen how Support Vector Machines systematically handle perfectly/almost linearly separable data. How does it handle the cases where the data is absolutely not linearly separable? Afterall, a lot of real-world data falls in this category. Surely, finding a hyperplane can’t work anymore. This seems unfortunate given that SVMs excel at this task.\n",
    "\n",
    "Here’s an example of non-linearly separable data (this is a variant of the famous XOR dataset which we get back to in notebook on Perceptron), shown with the linear classifier SVMs find:\n",
    "\n",
    "![SVM1](https://drive.google.com/uc?export=view&id=1XWrD9huMk7O0VkXaPymtUSU5bEvKJVHK)\n",
    "\n",
    "Clearly we can not possibly get more than 75% accuracy on the training data  with a linear classifier, or can we?!\n"
   ]
  },
  {
   "cell_type": "markdown",
   "metadata": {
    "colab_type": "text",
    "id": "-jPL1gGKBzlm"
   },
   "source": [
    "This is where an interesting concept comes in. We have a technique that is really good at finding separating hyperplanes, but then we also have data that is not linearly separable. So what do we do? We can **project** the data into a **new space** where it is linearly separable and find a hyperplane in this space!\n",
    "\n",
    "For the example above, let's say we project this 2D dataset into a 3D space where the new coordinates are:\n",
    "\n",
    "$$\n",
    "X_1 = x_1^2\\\\\n",
    "X_2 = x_2^2\\\\\n",
    "X_3 = \\sqrt{2}x_1x_2\\\\\n",
    "$$\n",
    "\n",
    "This is what the projected data looks like. Do you see a place where we just might be able to slip in a plane?\n",
    "\n",
    "![SVM5](https://drive.google.com/uc?export=view&id=1cXmp0NvUBmVpXXnUSmP4H65Uy4Q5TyNY)\n",
    "\n",
    "If we run SVM on this data and plot the hyperplane we would have:\n",
    "\n",
    "![SVM6](https://drive.google.com/uc?export=view&id=1vQU8bYSorqt2XuWLgGXggCvYp-IdxGR3)\n",
    "\n",
    "\n",
    "Now we have perfect label separation! Lets project the plane back to the original 2D space and see what the separation boundary looks like:\n",
    "\n",
    "![SVM7](https://drive.google.com/uc?export=view&id=1eEWUU-OJuwAUxLoFHiv-ITIUf0rgvRdh)\n",
    "\n",
    "The shape of the separating boundary in the original space depends on the projection. In the projected space, this is always a hyperplane, but in the originial space this is not a line anymore. This is also true for the margin and support vectors. \n",
    "\n",
    "![SVM8](https://drive.google.com/uc?export=view&id=1V22yNqY2lIOZ4Ea930LvOyjJ8Ou3ET32)\n"
   ]
  },
  {
   "cell_type": "markdown",
   "metadata": {
    "colab_type": "text",
    "id": "rLDo0AamB1VB"
   },
   "source": [
    "## Choosing Projection"
   ]
  },
  {
   "cell_type": "markdown",
   "metadata": {
    "colab_type": "text",
    "id": "6y31DE6OB1Xz"
   },
   "source": [
    "For the example we saw, we use a very specific projection. But there are many possible projections. In general, it is hard to know which projection to use and is done based on intuition and trial & error.\n",
    "\n",
    "In this case we relied on [Cover’s theorem](https://en.wikipedia.org/wiki/Cover%27s_theorem) which states that given a set of training data that is not linearly separable, one can with high probability transform it into a training set that is linearly separable by projecting it into a higher-dimensional space via some non-linear transformation.\n",
    "\n",
    "In practice, we try out a few high-dimensional projections to see what works. In fact, we can project data onto infinite dimensions and that often works pretty well. "
   ]
  },
  {
   "cell_type": "markdown",
   "metadata": {
    "colab_type": "text",
    "id": "MqIfz4RZB1a8"
   },
   "source": [
    "## Kernel Trick"
   ]
  },
  {
   "cell_type": "markdown",
   "metadata": {
    "colab_type": "text",
    "id": "BuaJsLxxLQg3"
   },
   "source": [
    "We might have given you the impression that data is first projected into the new space, and then we run the SVM. In practice that is not the case and we usually ask SVM to do the projection for us.\n",
    "\n",
    "This has some benefits. For one, SVMs use something called **kernels** to do these projections, and these are pretty fast.\n",
    "\n",
    "Remember what we said about projecting into infinite dimensions? If you project the data yourself, how do you represent or store infinite dimensions? It turns out SVMs are very clever about this, courtesy of kernels again."
   ]
  },
  {
   "cell_type": "markdown",
   "metadata": {
    "colab_type": "text",
    "id": "rHbKPbIXLQkL"
   },
   "source": [
    "So for SVM, we had these cases:\n",
    "\n",
    "1. For linearly separable data SVMs work amazingly well.\n",
    "1. For data that’s almost linearly separable, SVMs can still be made to work pretty well by using the right value of $C$.\n",
    "1. For data that’s not linearly separable, we can project data to a space where it is perfectly/almost linearly separable, which reduces the problem to 1 or 2 and we are back in business.\n",
    "\n",
    "It looks like a big part of what makes SVMs universally applicable is projecting it to higher dimensions. And this is where kernels come in."
   ]
  },
  {
   "cell_type": "markdown",
   "metadata": {
    "colab_type": "text",
    "id": "CAmxzsp5LQnP"
   },
   "source": [
    "A very surprising aspect of SVMs is that in all of the mathematical machinery it uses, the exact projection, or even the number of dimensions, doesn’t show up. You could write all of it in terms of the dot products between various data points (represented as vectors).\n",
    "\n",
    "If we have n points in our dataset, the SVM needs only the dot product of each pair of points to find a classifier. Just that. This is also true when we want to project data to higher dimensions. We don’t need to provide the SVM with exact projections; we need to give it the dot product between all pairs of points in the projected space.\n",
    "\n",
    "This is relevant because this is exactly what kernels do. A kernel, short for kernel function, takes as input two points in the original space, and directly gives us the dot product in the projected space. The calculations with the trick reduces to about a quarter of what we would need without the kernel trick. It might not seem like a big deal, but with input points with a lot more dimensions, and with the projected space having an even higher number of dimensions, the computational savings for a large dataset add up incredibly fast. So that’s one huge advantage of using kernels.\n",
    "\n",
    "Most SVM libraries already come pre-packaged with some popular kernels like Polynomial, Radial Basis Function (RBF), and Sigmoid. When we don’t use a projection, we compute the dot products in the original space — this we refer to as using the linear kernel.\n",
    "\n",
    "Many of these kernels give you additional levers to further tune it for your data. For example, the polynomial kernel:\n",
    "\n",
    "$$\n",
    "K(\\vec{x}_i, \\vec{x}_j) = (\\vec{x}_i . \\vec{x}_j + c)^d\n",
    "$$\n",
    "\n",
    "allows you to pick the value of c and d (the degree of the polynomial).\n",
    "\n",
    "Remember about projecting into infinite dimensions? If you haven’t already guessed, the way to make it work is to have the right kernel function. That way, we really don’t have to project the input data, or worry about storing infinite dimensions. The RBF kernel is commonly used for a specific infinite-dimensional projection. How can we have infinite dimensions, but can still compute the dot product? If you find this question confusing, think about how we compute sums of infinite series. This is similar. There are infinite terms in the dot product, but there happens to exist a formula to calculate their sum. Your are advised to read more on the Radial Basis Functions.\n",
    "\n",
    "https://en.wikipedia.org/wiki/Radial_basis_function_kernel\n",
    "\n",
    ">     A kernel function computes what the dot product would be if you had actually projected the data.\n",
    "\n"
   ]
  },
  {
   "cell_type": "markdown",
   "metadata": {
    "colab_type": "text",
    "id": "zJQUCxIZHD9Y"
   },
   "source": [
    "## Showcase"
   ]
  },
  {
   "cell_type": "markdown",
   "metadata": {
    "colab_type": "text",
    "id": "dv-pOYVaHG-J"
   },
   "source": [
    "Let's first import what we need into Python interpreter."
   ]
  },
  {
   "cell_type": "code",
   "execution_count": 7,
   "metadata": {
    "colab": {},
    "colab_type": "code",
    "id": "Smc1x6cuHPvu"
   },
   "outputs": [],
   "source": [
    "# import libraries\n",
    "from __future__ import division, print_function, unicode_literals\n",
    "import os\n",
    "import numpy as np\n",
    "from sklearn import datasets\n",
    "from sklearn.pipeline import Pipeline\n",
    "from sklearn.preprocessing import StandardScaler\n",
    "from sklearn.svm import SVC\n",
    "from sklearn.svm import LinearSVC\n",
    "from sklearn.svm import LinearSVR\n",
    "from sklearn.linear_model import LogisticRegression\n",
    "from sklearn.linear_model import LinearRegression\n",
    "import matplotlib.pyplot as plt\n",
    "import matplotlib\n",
    "from sklearn.datasets import make_moons\n",
    "from sklearn.preprocessing import PolynomialFeatures"
   ]
  },
  {
   "cell_type": "markdown",
   "metadata": {
    "colab_type": "text",
    "id": "xtYVafFDHTTe"
   },
   "source": [
    "### Loading dataset"
   ]
  },
  {
   "cell_type": "markdown",
   "metadata": {
    "colab_type": "text",
    "id": "btJMDkc-JIy5"
   },
   "source": [
    "The following Scikit-Learn code loads the iris dataset. "
   ]
  },
  {
   "cell_type": "code",
   "execution_count": 8,
   "metadata": {
    "colab": {},
    "colab_type": "code",
    "id": "doCm3SurHWg1"
   },
   "outputs": [],
   "source": [
    "iris = datasets.load_iris()\n",
    "X = iris[\"data\"][:,(2,3)]       # petal length, petal width\n",
    "y = (iris[\"target\"]==2).astype(np.float64)\n"
   ]
  },
  {
   "cell_type": "markdown",
   "metadata": {
    "colab_type": "text",
    "id": "HL32W5-ZU3bG"
   },
   "source": [
    "### Drawing helper functions"
   ]
  },
  {
   "cell_type": "code",
   "execution_count": 75,
   "metadata": {
    "colab": {},
    "colab_type": "code",
    "id": "3_Gr3b0HTKZD"
   },
   "outputs": [],
   "source": [
    "def make_meshgrid(x, y, h=.01):\n",
    "    x_min, x_max = x.min() - 1, x.max() + 1\n",
    "    y_min, y_max = y.min() - 1, y.max() + 1\n",
    "    xx, yy = np.meshgrid(np.arange(x_min, x_max, h),\n",
    "                         np.arange(y_min, y_max, h))\n",
    "    return xx, yy\n",
    "\n",
    "def Draw(model):\n",
    "    X0, X1 = X[:, 0], X[:, 1]\n",
    "    xx, yy = make_meshgrid(X0, X1)\n",
    "    ax = plt.figure(figsize=(8, 6)).add_subplot(111)\n",
    "    Z = model.predict(np.c_[xx.ravel(), yy.ravel()])\n",
    "    Z = Z.reshape(xx.shape)\n",
    "    ax.contourf(xx, yy, Z)\n",
    "    ax.scatter(X0, X1, c=y, cmap=plt.cm.coolwarm, s=40, edgecolors='k')\n",
    "    ax.set_xlim(xx.min(), xx.max())\n",
    "    ax.set_ylim(yy.min(), yy.max())\n",
    "    ax.set_xlabel('Sepal length')\n",
    "    ax.set_ylabel('Sepal width')\n",
    "    ax.set_xticks(())\n",
    "    ax.set_yticks(())\n",
    "    plt.show()"
   ]
  },
  {
   "cell_type": "code",
   "execution_count": null,
   "metadata": {},
   "outputs": [],
   "source": [
    "plt.cm.binary_r"
   ]
  },
  {
   "cell_type": "markdown",
   "metadata": {
    "colab_type": "text",
    "id": "u1oBeWLRSzr5"
   },
   "source": [
    "### Linear Classification"
   ]
  },
  {
   "cell_type": "markdown",
   "metadata": {
    "colab_type": "text",
    "id": "79lGqLYWJgd9"
   },
   "source": [
    "The code below makes a pipeline which scales the features, and then trains a linear SVM model (using the `LinearSVC` class with `C = 0.1` and the hinge loss function) to detect Iris-Virginica flowers."
   ]
  },
  {
   "cell_type": "code",
   "execution_count": 76,
   "metadata": {
    "colab": {
     "base_uri": "https://localhost:8080/",
     "height": 344
    },
    "colab_type": "code",
    "id": "qz0ekhRBRnWN",
    "outputId": "f529cef6-4eea-4d75-a75a-f496e0009845"
   },
   "outputs": [
    {
     "data": {
      "image/png": "[encoded data removed]",
      "text/plain": [
       "<Figure size 576x432 with 1 Axes>"
      ]
     },
     "metadata": {},
     "output_type": "display_data"
    }
   ],
   "source": [
    "svm_clf = Pipeline((\n",
    "    (\"scaler\", StandardScaler()),\n",
    "    (\"linear_svc\", LinearSVC(C=1, loss=\"hinge\")),\n",
    "))\n",
    "\n",
    "svm_clf.fit(X, y)\n",
    "Draw(svm_clf)"
   ]
  },
  {
   "cell_type": "markdown",
   "metadata": {
    "colab_type": "text",
    "id": "TUG49UrpWMSk"
   },
   "source": [
    "Remember that unlike Logistic Regression classifiers, SVM classifiers do not output probabilities for each class."
   ]
  },
  {
   "cell_type": "code",
   "execution_count": 38,
   "metadata": {
    "colab": {
     "base_uri": "https://localhost:8080/",
     "height": 34
    },
    "colab_type": "code",
    "id": "TNptSMyjWNQ9",
    "outputId": "a65ec042-91bc-4f8f-e66b-f7af538490c4"
   },
   "outputs": [
    {
     "data": {
      "text/plain": [
       "array([1.])"
      ]
     },
     "execution_count": 38,
     "metadata": {},
     "output_type": "execute_result"
    }
   ],
   "source": [
    "svm_clf.predict([[5.5, 1.7]])"
   ]
  },
  {
   "cell_type": "markdown",
   "metadata": {
    "colab_type": "text",
    "id": "DCppamNQWIQ7"
   },
   "source": [
    "Alternatively, you could use the SVC class, using `SVC(kernel=\"linear\", C=1)`, but it is much slower,\n",
    "especially with large training sets, so it is not recommended. Another option is to use the `SGDClassifier`\n",
    "class, with `SGDClassifier(loss=\"hinge\", alpha=1/(m*C))`. This applies regular Stochastic\n",
    "Gradient Descent to train a linear SVM classifier. It does not converge as fast as the\n",
    "`LinearSVC` class, but it can be useful to handle huge datasets that do not fit in memory (out-of-core training), or to handle online classification tasks.\n",
    "\n",
    "The `LinearSVC` class regularizes the bias term, so you should center the training set first by subtracting its mean. This is\n",
    "automatic if you scale the data using the `StandardScaler`. Moreover, make sure you set the loss hyperparameter to \"hinge\", as\n",
    "it is not the default value. Finally, for better performance you should set the `dual` hyperparameter to `False`, unless there are more\n",
    "features than training instances."
   ]
  },
  {
   "cell_type": "markdown",
   "metadata": {
    "colab_type": "text",
    "id": "In9DmgK8Vaq7"
   },
   "source": [
    "### Nonlinear SVM Classification"
   ]
  },
  {
   "cell_type": "markdown",
   "metadata": {
    "colab_type": "text",
    "id": "FH31y_SPXI0N"
   },
   "source": [
    "#### Polynomial Features"
   ]
  },
  {
   "cell_type": "markdown",
   "metadata": {
    "colab_type": "text",
    "id": "7z67qIJ7XfAb"
   },
   "source": [
    "Although linear SVM classifiers are efficient and work surprisingly well in many cases, many datasets\n",
    "are not even close to being linearly separable. One approach to handling nonlinear datasets is to add more\n",
    "features, such as polynomial features. To implement this idea using Scikit-Learn, you can create a `Pipeline` containing a PolynomialFeatures\n",
    "transformer followed by a `StandardScaler` and a `LinearSVC`."
   ]
  },
  {
   "cell_type": "code",
   "execution_count": 77,
   "metadata": {
    "colab": {
     "base_uri": "https://localhost:8080/",
     "height": 344
    },
    "colab_type": "code",
    "id": "NO-vNRi5XMw2",
    "outputId": "2c5c7a9a-10a2-47f1-f5a1-e6d2427dbaa7"
   },
   "outputs": [
    {
     "data": {
      "image/png": "[encoded data removed]",
      "text/plain": [
       "<Figure size 576x432 with 1 Axes>"
      ]
     },
     "metadata": {},
     "output_type": "display_data"
    }
   ],
   "source": [
    "Polynomial_svm_clf = Pipeline((\n",
    "    (\"poly_features\", PolynomialFeatures(degree=3)),\n",
    "    (\"scaler\", StandardScaler()),\n",
    "    (\"svm_clf\", LinearSVC(C=10, loss=\"hinge\"))\n",
    "))\n",
    "\n",
    "Polynomial_svm_clf.fit(X, y)\n",
    "Draw(Polynomial_svm_clf)"
   ]
  },
  {
   "cell_type": "markdown",
   "metadata": {
    "colab_type": "text",
    "id": "49pYYWErL0Rf"
   },
   "source": [
    "#### Polynomial Kernel"
   ]
  },
  {
   "cell_type": "markdown",
   "metadata": {
    "colab_type": "text",
    "id": "dGqBIO7nL4FP"
   },
   "source": [
    "Adding polynomial features is simple to implement and can work great with all sorts of Machine Learning\n",
    "algorithms (not just SVMs), but at a low polynomial degree it cannot deal with very complex datasets,\n",
    "and with a high polynomial degree it creates a huge number of features, making the model too slow. \n",
    "\n",
    "Fortunately, when using SVMs you can apply an almost miraculous mathematical technique called the\n",
    "kernel trick (it is explained in a moment). It makes it possible to get the same result as if you added many\n",
    "polynomial features, even with very high-degree polynomials, without actually having to add them. So there is no combinatorial explosion of the number of features since you don’t actually add any features."
   ]
  },
  {
   "cell_type": "markdown",
   "metadata": {
    "colab_type": "text",
    "id": "PBoAU-UDX2vz"
   },
   "source": [
    "This code below trains an SVM classifier using a 3rd-degree polynomial kernel."
   ]
  },
  {
   "cell_type": "code",
   "execution_count": 78,
   "metadata": {
    "colab": {
     "base_uri": "https://localhost:8080/",
     "height": 344
    },
    "colab_type": "code",
    "id": "Czv1K5CMMUQS",
    "outputId": "4b3928ad-1d12-4f7e-d8fe-12625e0c52bc"
   },
   "outputs": [
    {
     "data": {
      "image/png": "[encoded data removed]",
      "text/plain": [
       "<Figure size 576x432 with 1 Axes>"
      ]
     },
     "metadata": {},
     "output_type": "display_data"
    }
   ],
   "source": [
    "poly_kernel_svm_clf = Pipeline((\n",
    "    (\"scaler\", StandardScaler()),\n",
    "    (\"svm_clf\", SVC(kernel=\"poly\", degree=3, coef0=1, C=5))\n",
    "))\n",
    "poly_kernel_svm_clf.fit(X, y)\n",
    "Draw(poly_kernel_svm_clf)"
   ]
  },
  {
   "cell_type": "markdown",
   "metadata": {
    "colab_type": "text",
    "id": "17b6Hi0AX-PR"
   },
   "source": [
    "On the right is another SVM classifier using a 10th-degree polynomial kernel. Obviously, if\n",
    "your model is overfitting, you might want to reduce the polynomial degree. Conversely, if it is\n",
    "underfitting, you can try increasing it. The hyperparameter coef0 controls how much the model is\n",
    "influenced by high-degree polynomials versus low-degree polynomials."
   ]
  },
  {
   "cell_type": "code",
   "execution_count": 79,
   "metadata": {
    "colab": {
     "base_uri": "https://localhost:8080/",
     "height": 344
    },
    "colab_type": "code",
    "id": "zkx0W34eXldT",
    "outputId": "a3adb09c-c1f9-49cc-9ed0-3264425740c0"
   },
   "outputs": [
    {
     "data": {
      "image/png": "[encoded data removed]",
      "text/plain": [
       "<Figure size 576x432 with 1 Axes>"
      ]
     },
     "metadata": {},
     "output_type": "display_data"
    }
   ],
   "source": [
    "poly_kernel_svm_clf = Pipeline((\n",
    "    (\"scaler\", StandardScaler()),\n",
    "    (\"svm_clf\", SVC(kernel=\"poly\", degree=10, coef0=1, C=5))\n",
    "))\n",
    "poly_kernel_svm_clf.fit(X, y)\n",
    "Draw(poly_kernel_svm_clf)"
   ]
  },
  {
   "cell_type": "markdown",
   "metadata": {
    "colab_type": "text",
    "id": "ID194hQlLQqO"
   },
   "source": [
    "# Regression with Support Vector Machines (SVR)"
   ]
  },
  {
   "cell_type": "markdown",
   "metadata": {
    "colab_type": "text",
    "id": "HRSW3JW-LQtY"
   },
   "source": [
    "As we mentioned earlier, the SVM algorithm is quite versatile: not only does it support linear and\n",
    "nonlinear classification, but it also supports linear and nonlinear regression. The trick is to reverse the\n",
    "objective: instead of trying to fit the largest possible street between two classes while limiting margin\n",
    "violations, SVM Regression tries to fit as many instances as possible on the street while limiting margin\n",
    "violations (i.e., instances off the street). The width of the street is controlled by a hyperparameter ϵ.\n",
    "\n",
    "Maximising the margin can more generally be seen as regularising the solution by minimising $w$ (which is essentially minimising model complexity) this is done both in the classification and regression. But in the case of classification this minimisation is done under the condition that all examples are classified correctly and in the case of regression under the condition that the value $y$ of all examples deviates less than the required accuracy $\\epsilon$ from $f(x)$ for regression.\n",
    "\n",
    "Let's see how both SVM and SVR  apply the same SVM theory to formulate the problem as a convex optimisation problem. Here we ignore slack variables that allow us for misclassifications and deviations above accuracy $\\epsilon$.\n"
   ]
  },
  {
   "cell_type": "markdown",
   "metadata": {
    "colab_type": "text",
    "id": "4JlsS6vjhuC6"
   },
   "source": [
    "**Classification**\n",
    "\n",
    "In this case the goal is to find a function $f(x)= wx +b$ where $f(x) \\geq 1$ for positive examples and $f(x) \\leq -1$ for negative examples. Under these conditions we want to maximise the margin (distance between the 2 red bars) which is nothing more than minimising the derivative of $f'=w$. \n",
    "\n",
    "The intuition behind **maximising the margin** is that this will give us a unique solution to the problem of finding $f(x)$ (i.e. we discard for example the blue line) *and* also that this solution is the most general under these conditions, i.e. it acts as a **regularisation**. This can be seen as, around the decision boundary (where red and black lines cross) the classification uncertainty is the biggest and choosing the lowest value for $f(x)$ in this region will yield the most general solution.\n",
    " \n",
    "![SVR1](https://drive.google.com/uc?export=view&id=1TuvPogGEzq5uZBbierdOjwBir1U7nPAL)\n",
    "\n",
    "The data points at the 2 red bars are the support vectors in this case, they correspond to the non-zero Lagrange multipliers of the equality part of the inequality conditions $f(x) \\geq 1$ and $f(x) \\leq -1$\n",
    "\n",
    "### Regression\n",
    "\n",
    "In this case the goal is to find a function $f(x)= wx +b$ (red line) under the condition that $f(x)$ is within a required accuracy $\\epsilon$ from the value value $y(x)$ (black bars) of every data point, i.e.  $|y(x) -f(x)|\\leq \\epsilon$ where $epsilon$ is the distance between the red and the grey line. Under this condition we again want to minimise $f'(x)=w$, again for the reason of regularisation and to obtain a unique solution as the result of the convex optimisation problem. One can see how minimising $w$ results in a more general case as the extreme value of $w=0$ would mean no functional relation at all which is the most general result one can obtain from the data.\n",
    "\n",
    "![SVR1](https://drive.google.com/uc?export=view&id=13j3ha7UWFQ_eQadBNZstr4n7wbJ8Up4-)\n",
    "\n",
    "The data points at the 2 red bars are the support vectors in this case, they correspond to the non-zero Lagrange multipliers of the equality part of the inequality condition $|y -f(x)|\\leq \\epsilon$.\n",
    "\n",
    "### Conclusion\n",
    "\n",
    "Both cases result in the following problem:\n",
    "\n",
    "$$ \\text{min} \\frac{1}{2}w^2 $$ \n",
    "\n",
    "Under the condition that:\n",
    "\n",
    "- All examples are classified correctly (Classification)\n",
    "- The value $y$ of all examples deviates less than $\\epsilon$ from $f(x)$. (Regression)"
   ]
  },
  {
   "cell_type": "markdown",
   "metadata": {
    "colab_type": "text",
    "id": "yYLriyaSLQwq"
   },
   "source": [
    "## Showcase"
   ]
  },
  {
   "cell_type": "markdown",
   "metadata": {
    "colab_type": "text",
    "id": "7RyNOCIGepJ5"
   },
   "source": [
    "### SVM Regression"
   ]
  },
  {
   "cell_type": "markdown",
   "metadata": {
    "colab_type": "text",
    "id": "fRhfWXm2eSzT"
   },
   "source": [
    "The code below shows two linear SVM Regression models trained on some random linear data, one with a\n",
    "large margin (ϵ = 1.5) and the other with a small margin (ϵ = 0.5).\n"
   ]
  },
  {
   "cell_type": "code",
   "execution_count": 80,
   "metadata": {
    "colab": {},
    "colab_type": "code",
    "id": "C4Uh9EOedU80"
   },
   "outputs": [],
   "source": [
    "np.random.seed(42)\n",
    "m = 50\n",
    "X = 2 * np.random.rand(m, 1)\n",
    "y = (4 + 3 * X + np.random.randn(m, 1)).ravel()\n"
   ]
  },
  {
   "cell_type": "markdown",
   "metadata": {
    "colab_type": "text",
    "id": "-C3n4HuGfO10"
   },
   "source": [
    "The SVR class is the regression equivalent of the `SVC` class, and\n",
    "the `LinearSVR` class is the regression equivalent of the `LinearSVC` class.\n",
    "\n",
    "The `LinearSVR` class scales\n",
    "linearly with the size of the training set (just like the `LinearSVC` class), while the `SVR` class gets much too\n",
    "slow when the training set grows large (just like the `SVC` class)."
   ]
  },
  {
   "cell_type": "code",
   "execution_count": 81,
   "metadata": {
    "colab": {},
    "colab_type": "code",
    "id": "CZYm0XGAdZlq"
   },
   "outputs": [],
   "source": [
    "from sklearn.svm import LinearSVR\n",
    "\n",
    "svm_reg = LinearSVR(epsilon=1.5, random_state=42)\n",
    "svm_reg.fit(X, y)\n",
    "\n",
    "svm_reg1 = LinearSVR(epsilon=1.5, random_state=42)\n",
    "svm_reg2 = LinearSVR(epsilon=0.5, random_state=42)\n",
    "svm_reg1.fit(X, y)\n",
    "svm_reg2.fit(X, y)\n",
    "\n",
    "def find_support_vectors(svm_reg, X, y):\n",
    "    y_pred = svm_reg.predict(X)\n",
    "    off_margin = (np.abs(y - y_pred) >= svm_reg.epsilon)\n",
    "    return np.argwhere(off_margin)\n",
    "\n",
    "svm_reg1.support_ = find_support_vectors(svm_reg1, X, y)\n",
    "svm_reg2.support_ = find_support_vectors(svm_reg2, X, y)\n",
    "\n",
    "eps_x1 = 1\n",
    "eps_y_pred = svm_reg1.predict([[eps_x1]])"
   ]
  },
  {
   "cell_type": "code",
   "execution_count": 82,
   "metadata": {
    "colab": {
     "base_uri": "https://localhost:8080/",
     "height": 305
    },
    "colab_type": "code",
    "id": "fl6q75nydaDz",
    "outputId": "11c4ea45-f210-4717-dc62-08333d0e6b86"
   },
   "outputs": [
    {
     "data": {
      "image/png": "[encoded data removed]",
      "text/plain": [
       "<Figure size 648x288 with 2 Axes>"
      ]
     },
     "metadata": {
      "needs_background": "light"
     },
     "output_type": "display_data"
    }
   ],
   "source": [
    "def plot_svm_regression(svm_reg, X, y, axes):\n",
    "    x1s = np.linspace(axes[0], axes[1], 100).reshape(100, 1)\n",
    "    y_pred = svm_reg.predict(x1s)\n",
    "    plt.plot(x1s, y_pred, \"k-\", linewidth=2, label=r\"$\\hat{y}$\")\n",
    "    plt.plot(x1s, y_pred + svm_reg.epsilon, \"k--\")\n",
    "    plt.plot(x1s, y_pred - svm_reg.epsilon, \"k--\")\n",
    "    plt.scatter(X[svm_reg.support_], y[svm_reg.support_], s=180, facecolors='#FFAAAA')\n",
    "    plt.plot(X, y, \"bo\")\n",
    "    plt.xlabel(r\"$x_1$\", fontsize=18)\n",
    "    plt.legend(loc=\"upper left\", fontsize=18)\n",
    "    plt.axis(axes)\n",
    "\n",
    "plt.figure(figsize=(9, 4))\n",
    "plt.subplot(121)\n",
    "plot_svm_regression(svm_reg1, X, y, [0, 2, 3, 11])\n",
    "plt.title(r\"$\\epsilon = {}$\".format(svm_reg1.epsilon), fontsize=18)\n",
    "plt.ylabel(r\"$y$\", fontsize=18, rotation=0)\n",
    "#plt.plot([eps_x1, eps_x1], [eps_y_pred, eps_y_pred - svm_reg1.epsilon], \"k-\", linewidth=2)\n",
    "plt.annotate(\n",
    "        '', xy=(eps_x1, eps_y_pred), xycoords='data',\n",
    "        xytext=(eps_x1, eps_y_pred - svm_reg1.epsilon),\n",
    "        textcoords='data', arrowprops={'arrowstyle': '<->', 'linewidth': 1.5}\n",
    "    )\n",
    "plt.text(0.91, 5.6, r\"$\\epsilon$\", fontsize=20)\n",
    "plt.subplot(122)\n",
    "plot_svm_regression(svm_reg2, X, y, [0, 2, 3, 11])\n",
    "plt.title(r\"$\\epsilon = {}$\".format(svm_reg2.epsilon), fontsize=18)\n",
    "plt.show()"
   ]
  },
  {
   "cell_type": "markdown",
   "metadata": {
    "colab_type": "text",
    "id": "gq-T9VdXeeTD"
   },
   "source": [
    "Adding more training instances within the margin does not affect the model’s predictions; thus, the model\n",
    "is said to be *ϵ-insensitive*.\n",
    "You can use Scikit-Learn’s `LinearSVR` class to perform linear SVM Regression."
   ]
  },
  {
   "cell_type": "markdown",
   "metadata": {
    "colab_type": "text",
    "id": "6fqdbMqUet-x"
   },
   "source": [
    "### SVM regression using a 2nd-degree polynomial kernel"
   ]
  },
  {
   "cell_type": "markdown",
   "metadata": {
    "colab_type": "text",
    "id": "6nZB-45odaKI"
   },
   "source": [
    "To tackle nonlinear regression tasks, you can use a kernelized SVM model. The code below shows SVM Regression on a random quadratic training set, using a 2nd-degree polynomial kernel. There\n",
    "is little regularization on the left plot (i.e., a large C value), and much more regularization on the right plot\n",
    "(i.e., a small C value)."
   ]
  },
  {
   "cell_type": "code",
   "execution_count": 83,
   "metadata": {
    "colab": {},
    "colab_type": "code",
    "id": "b_LpeQ3rdaHC"
   },
   "outputs": [],
   "source": [
    "np.random.seed(42)\n",
    "m = 100\n",
    "X = 2 * np.random.rand(m, 1) - 1\n",
    "y = (0.2 + 0.1 * X + 0.5 * X**2 + np.random.randn(m, 1)/10).ravel()"
   ]
  },
  {
   "cell_type": "code",
   "execution_count": 84,
   "metadata": {
    "colab": {
     "base_uri": "https://localhost:8080/",
     "height": 308
    },
    "colab_type": "code",
    "id": "RXg3-xuzWbh7",
    "outputId": "40ea9a53-faf7-4868-e245-3e4901147f93"
   },
   "outputs": [
    {
     "data": {
      "image/png": "[encoded data removed]",
      "text/plain": [
       "<Figure size 648x288 with 2 Axes>"
      ]
     },
     "metadata": {
      "needs_background": "light"
     },
     "output_type": "display_data"
    }
   ],
   "source": [
    "from sklearn.svm import SVR\n",
    "\n",
    "svm_poly_reg = SVR(kernel=\"poly\", degree=2, C=100, epsilon=0.1, gamma='auto')\n",
    "svm_poly_reg.fit(X, y)\n",
    "\n",
    "from sklearn.svm import SVR\n",
    "\n",
    "svm_poly_reg1 = SVR(kernel=\"poly\", degree=2, C=100, epsilon=0.1, gamma='auto')\n",
    "svm_poly_reg2 = SVR(kernel=\"poly\", degree=2, C=0.01, epsilon=0.1, gamma='auto')\n",
    "svm_poly_reg1.fit(X, y)\n",
    "svm_poly_reg2.fit(X, y)\n",
    "\n",
    "plt.figure(figsize=(9, 4))\n",
    "plt.subplot(121)\n",
    "plot_svm_regression(svm_poly_reg1, X, y, [-1, 1, 0, 1])\n",
    "plt.title(r\"$degree={}, C={}, \\epsilon = {}$\".format(svm_poly_reg1.degree, svm_poly_reg1.C, svm_poly_reg1.epsilon), fontsize=18)\n",
    "plt.ylabel(r\"$y$\", fontsize=18, rotation=0)\n",
    "plt.subplot(122)\n",
    "plot_svm_regression(svm_poly_reg2, X, y, [-1, 1, 0, 1])\n",
    "plt.title(r\"$degree={}, C={}, \\epsilon = {}$\".format(svm_poly_reg2.degree, svm_poly_reg2.C, svm_poly_reg2.epsilon), fontsize=18)\n",
    "plt.show()"
   ]
  },
  {
   "cell_type": "markdown",
   "metadata": {
    "colab_type": "text",
    "id": "olfypJ520h0k"
   },
   "source": [
    "## Showcase - Support Vector Machines for regime/trend prediction"
   ]
  },
  {
   "cell_type": "markdown",
   "metadata": {},
   "source": [
    "Let me begin by explaining the agenda here:\n",
    "\n",
    "1. Create an unsupervised ML algorithm to predict the regimes.\n",
    "2. Plot these regimes to visualize them.\n",
    "3. Train a Support Vector Classifier algorithm with the regime as one of the features.\n",
    "4. Use this Support Vector Classifier algorithm to predict the current day’s trend at the Opening of the market.\n",
    "5. Visualize the performance of this strategy on the test data."
   ]
  },
  {
   "cell_type": "code",
   "execution_count": 2,
   "metadata": {},
   "outputs": [],
   "source": [
    "import numpy as np\n",
    "import pandas as pd\n",
    "from pandas_datareader import data as pdr\n",
    "import seaborn as sns \n",
    "import matplotlib.pyplot as plt\n",
    "import talib as ta\n",
    "from sklearn import mixture as mix\n",
    "from sklearn.preprocessing import StandardScaler\n",
    "from sklearn.svm import SVC\n",
    "import yfinance as yf"
   ]
  },
  {
   "cell_type": "code",
   "execution_count": 3,
   "metadata": {},
   "outputs": [
    {
     "data": {
      "text/html": [
       "<div>\n",
       "<style scoped>\n",
       "    .dataframe tbody tr th:only-of-type {\n",
       "        vertical-align: middle;\n",
       "    }\n",
       "\n",
       "    .dataframe tbody tr th {\n",
       "        vertical-align: top;\n",
       "    }\n",
       "\n",
       "    .dataframe thead th {\n",
       "        text-align: right;\n",
       "    }\n",
       "</style>\n",
       "<table border=\"1\" class=\"dataframe\">\n",
       "  <thead>\n",
       "    <tr style=\"text-align: right;\">\n",
       "      <th></th>\n",
       "      <th>Open</th>\n",
       "      <th>High</th>\n",
       "      <th>Low</th>\n",
       "      <th>Close</th>\n",
       "    </tr>\n",
       "    <tr>\n",
       "      <th>Date</th>\n",
       "      <th></th>\n",
       "      <th></th>\n",
       "      <th></th>\n",
       "      <th></th>\n",
       "    </tr>\n",
       "  </thead>\n",
       "  <tbody>\n",
       "    <tr>\n",
       "      <th>2000-01-03</th>\n",
       "      <td>148.25000</td>\n",
       "      <td>148.25000</td>\n",
       "      <td>143.875000</td>\n",
       "      <td>145.4375</td>\n",
       "    </tr>\n",
       "    <tr>\n",
       "      <th>2000-01-04</th>\n",
       "      <td>143.53125</td>\n",
       "      <td>144.06250</td>\n",
       "      <td>139.640625</td>\n",
       "      <td>139.7500</td>\n",
       "    </tr>\n",
       "    <tr>\n",
       "      <th>2000-01-05</th>\n",
       "      <td>139.93750</td>\n",
       "      <td>141.53125</td>\n",
       "      <td>137.250000</td>\n",
       "      <td>140.0000</td>\n",
       "    </tr>\n",
       "    <tr>\n",
       "      <th>2000-01-06</th>\n",
       "      <td>139.62500</td>\n",
       "      <td>141.50000</td>\n",
       "      <td>137.750000</td>\n",
       "      <td>137.7500</td>\n",
       "    </tr>\n",
       "    <tr>\n",
       "      <th>2000-01-07</th>\n",
       "      <td>140.31250</td>\n",
       "      <td>145.75000</td>\n",
       "      <td>140.062500</td>\n",
       "      <td>145.7500</td>\n",
       "    </tr>\n",
       "  </tbody>\n",
       "</table>\n",
       "</div>"
      ],
      "text/plain": [
       "                 Open       High         Low     Close\n",
       "Date                                                  \n",
       "2000-01-03  148.25000  148.25000  143.875000  145.4375\n",
       "2000-01-04  143.53125  144.06250  139.640625  139.7500\n",
       "2000-01-05  139.93750  141.53125  137.250000  140.0000\n",
       "2000-01-06  139.62500  141.50000  137.750000  137.7500\n",
       "2000-01-07  140.31250  145.75000  140.062500  145.7500"
      ]
     },
     "execution_count": 3,
     "metadata": {},
     "output_type": "execute_result"
    }
   ],
   "source": [
    "# Read the data from Yahoo\n",
    "df= pdr.get_data_yahoo('SPY', '2000-01-01', '2012-01-01')\n",
    "\n",
    "df = df.dropna()\n",
    "df = df[['Open', 'High', 'Low','Close']]\n",
    "df.head()"
   ]
  },
  {
   "cell_type": "code",
   "execution_count": 10,
   "metadata": {},
   "outputs": [
    {
     "data": {
      "text/html": [
       "<div>\n",
       "<style scoped>\n",
       "    .dataframe tbody tr th:only-of-type {\n",
       "        vertical-align: middle;\n",
       "    }\n",
       "\n",
       "    .dataframe tbody tr th {\n",
       "        vertical-align: top;\n",
       "    }\n",
       "\n",
       "    .dataframe thead th {\n",
       "        text-align: right;\n",
       "    }\n",
       "</style>\n",
       "<table border=\"1\" class=\"dataframe\">\n",
       "  <thead>\n",
       "    <tr style=\"text-align: right;\">\n",
       "      <th></th>\n",
       "      <th>High</th>\n",
       "      <th>Low</th>\n",
       "      <th>Open</th>\n",
       "      <th>Close</th>\n",
       "      <th>Volume</th>\n",
       "      <th>Adj Close</th>\n",
       "    </tr>\n",
       "    <tr>\n",
       "      <th>Date</th>\n",
       "      <th></th>\n",
       "      <th></th>\n",
       "      <th></th>\n",
       "      <th></th>\n",
       "      <th></th>\n",
       "      <th></th>\n",
       "    </tr>\n",
       "  </thead>\n",
       "  <tbody>\n",
       "    <tr>\n",
       "      <th>2000-01-03</th>\n",
       "      <td>148.25000</td>\n",
       "      <td>143.875000</td>\n",
       "      <td>148.25000</td>\n",
       "      <td>145.4375</td>\n",
       "      <td>8164300.0</td>\n",
       "      <td>98.146072</td>\n",
       "    </tr>\n",
       "    <tr>\n",
       "      <th>2000-01-04</th>\n",
       "      <td>144.06250</td>\n",
       "      <td>139.640625</td>\n",
       "      <td>143.53125</td>\n",
       "      <td>139.7500</td>\n",
       "      <td>8089800.0</td>\n",
       "      <td>94.307983</td>\n",
       "    </tr>\n",
       "    <tr>\n",
       "      <th>2000-01-05</th>\n",
       "      <td>141.53125</td>\n",
       "      <td>137.250000</td>\n",
       "      <td>139.93750</td>\n",
       "      <td>140.0000</td>\n",
       "      <td>12177900.0</td>\n",
       "      <td>94.476685</td>\n",
       "    </tr>\n",
       "    <tr>\n",
       "      <th>2000-01-06</th>\n",
       "      <td>141.50000</td>\n",
       "      <td>137.750000</td>\n",
       "      <td>139.62500</td>\n",
       "      <td>137.7500</td>\n",
       "      <td>6227200.0</td>\n",
       "      <td>92.958336</td>\n",
       "    </tr>\n",
       "    <tr>\n",
       "      <th>2000-01-07</th>\n",
       "      <td>145.75000</td>\n",
       "      <td>140.062500</td>\n",
       "      <td>140.31250</td>\n",
       "      <td>145.7500</td>\n",
       "      <td>8066500.0</td>\n",
       "      <td>98.356987</td>\n",
       "    </tr>\n",
       "  </tbody>\n",
       "</table>\n",
       "</div>"
      ],
      "text/plain": [
       "                 High         Low       Open     Close      Volume  Adj Close\n",
       "Date                                                                         \n",
       "2000-01-03  148.25000  143.875000  148.25000  145.4375   8164300.0  98.146072\n",
       "2000-01-04  144.06250  139.640625  143.53125  139.7500   8089800.0  94.307983\n",
       "2000-01-05  141.53125  137.250000  139.93750  140.0000  12177900.0  94.476685\n",
       "2000-01-06  141.50000  137.750000  139.62500  137.7500   6227200.0  92.958336\n",
       "2000-01-07  145.75000  140.062500  140.31250  145.7500   8066500.0  98.356987"
      ]
     },
     "execution_count": 10,
     "metadata": {},
     "output_type": "execute_result"
    }
   ],
   "source": [
    "df2= pdr.get_data_yahoo('SPY', '2000-01-01', '2012-01-01')\n",
    "df2.head()"
   ]
  },
  {
   "cell_type": "code",
   "execution_count": 21,
   "metadata": {},
   "outputs": [
    {
     "data": {
      "text/plain": [
       "<matplotlib.axes._subplots.AxesSubplot at 0x11bd04610>"
      ]
     },
     "execution_count": 21,
     "metadata": {},
     "output_type": "execute_result"
    },
    {
     "data": {
      "image/png": "[encoded data removed]",
      "text/plain": [
       "<Figure size 432x288 with 1 Axes>"
      ]
     },
     "metadata": {
      "needs_background": "light"
     },
     "output_type": "display_data"
    }
   ],
   "source": [
    "df.iloc[-600:, -1].plot()"
   ]
  },
  {
   "cell_type": "code",
   "execution_count": 4,
   "metadata": {},
   "outputs": [],
   "source": [
    "n = 10  # look back period of 10 days\n",
    "t = 0.8 # 80% data for training and remaining 20% data for testing\n",
    "split =int(t*len(df))"
   ]
  },
  {
   "cell_type": "markdown",
   "metadata": {},
   "source": [
    "Let's shift the High, Low and Close columns by 1, to access only the past data. After this, let's created various technical indicators such as, RSI, SMA, ADX, Correlation, Parabolic SAR, and the Return of the past 1- day on an Open to Open basis."
   ]
  },
  {
   "cell_type": "code",
   "execution_count": 5,
   "metadata": {},
   "outputs": [
    {
     "name": "stdout",
     "output_type": "stream",
     "text": [
      "                 Open       High         Low     Close       high         low  \\\n",
      "Date                                                                            \n",
      "2000-01-03  148.25000  148.25000  143.875000  145.4375        NaN         NaN   \n",
      "2000-01-04  143.53125  144.06250  139.640625  139.7500  148.25000  143.875000   \n",
      "2000-01-05  139.93750  141.53125  137.250000  140.0000  144.06250  139.640625   \n",
      "2000-01-06  139.62500  141.50000  137.750000  137.7500  141.53125  137.250000   \n",
      "2000-01-07  140.31250  145.75000  140.062500  145.7500  141.50000  137.750000   \n",
      "\n",
      "               close  RSI  SMA  Corr         SAR  ADX    Return  \n",
      "Date                                                             \n",
      "2000-01-03       NaN  NaN  NaN   NaN         NaN  NaN       NaN  \n",
      "2000-01-04  145.4375  NaN  NaN   NaN         NaN  NaN -0.032347  \n",
      "2000-01-05  139.7500  NaN  NaN   NaN  148.250000  NaN -0.025357  \n",
      "2000-01-06  140.0000  NaN  NaN   NaN  146.528125  NaN -0.002236  \n",
      "2000-01-07  137.7500  NaN  NaN   NaN  144.672500  NaN  0.004912  \n"
     ]
    }
   ],
   "source": [
    "df['high']=df['High'].shift(1)\n",
    "df['low']=df['Low'].shift(1)\n",
    "df['close']=df['Close'].shift(1)\n",
    "df['RSI']=ta.RSI(np.array(df['close']), timeperiod=n)\n",
    "df['SMA']= df['close'].rolling(window=n).mean()\n",
    "df['Corr']= df['SMA'].rolling(window=n).corr(df['close'])\n",
    "df['SAR']=ta.SAR(np.array(df['high']),np.array(df['low']),\\\n",
    "                  0.2,0.2)\n",
    "df['ADX']=ta.ADX(np.array(df['high']),np.array(df['low']),\\\n",
    "                  np.array(df['close']), timeperiod =n)\n",
    "df['Corr'][df.Corr>1]=1\n",
    "df['Corr'][df.Corr<-1]=-1 \n",
    "df['Return']= np.log(df['Open']/df['Open'].shift(1))\n",
    "\n",
    "print(df.head())\n",
    "\n",
    "df=df.dropna()"
   ]
  },
  {
   "cell_type": "markdown",
   "metadata": {},
   "source": [
    "- Clustering refers to grouping similar data points together, based on their attributes or features.\n",
    "\n",
    "- Gaussian Mixture Models (GMMs) are a powerful clustering algorithm which improve the k-means clustering algorithm by considering higher order monets.\n",
    "\n",
    "- Gaussian Mixture Models assume that there are a certain number of Gaussian distributions, and each of these distributions represent a cluster. Hence, a Gaussian Mixture Model tends to group the data points belonging to a single distribution together.Clustering refers to grouping similar data points together, based on their attributes or features."
   ]
  },
  {
   "cell_type": "code",
   "execution_count": 6,
   "metadata": {},
   "outputs": [
    {
     "data": {
      "image/png": "[encoded data removed]",
      "text/plain": [
       "<Figure size 621.5x288 with 1 Axes>"
      ]
     },
     "metadata": {
      "needs_background": "light"
     },
     "output_type": "display_data"
    },
    {
     "name": "stdout",
     "output_type": "stream",
     "text": [
      "Mean for regime 0:  -0.01354361468026196\n",
      "Co-Variance for regime 0:  0.34228226342462287\n",
      "Mean for regime 1:  -1.3584140837627232\n",
      "Co-Variance for regime 1:  0.37004225826594567\n",
      "Mean for regime 2:  1.1515138267969611\n",
      "Co-Variance for regime 2:  0.39132398659487155\n",
      "Mean for regime 3:  -0.801900436799713\n",
      "Co-Variance for regime 3:  1.1814840292494673\n",
      "        Date  Regime        Open        high         low       close  \\\n",
      "0 2009-09-09       1  103.120003  103.050003  102.389999  102.940002   \n",
      "1 2009-09-10       1  103.800003  104.080002  102.800003  103.730003   \n",
      "2 2009-09-11       1  104.989998  104.860001  103.220001  104.790001   \n",
      "3 2009-09-14       1  103.879997  105.300003  104.279999  104.769997   \n",
      "4 2009-09-15       1  105.449997  105.459999  103.150002  105.279999   \n",
      "\n",
      "         RSI      SMA      Corr         SAR        ADX    Return  \\\n",
      "0  61.016205  102.124 -0.712279   99.570000  27.067911  0.001164   \n",
      "1  64.627979  102.181 -0.591800  100.266000  27.615840  0.006573   \n",
      "2  68.920785  102.343 -0.312803  101.028801  28.737307  0.011399   \n",
      "3  68.745839  102.480  0.069446  101.795041  30.084067 -0.010629   \n",
      "4  70.842418  102.670  0.572570  102.496033  29.362099  0.015001   \n",
      "\n",
      "   market_cu_return  \n",
      "0          0.001164  \n",
      "1          0.007737  \n",
      "2          0.019136  \n",
      "3          0.008507  \n",
      "4          0.023508  \n"
     ]
    }
   ],
   "source": [
    "# created an unsupervised learning algorithm to make the regime prediction\n",
    "\n",
    "ss= StandardScaler()\n",
    "unsup = mix.GaussianMixture(n_components=4, \n",
    "                            covariance_type=\"spherical\", \n",
    "                            n_init=100, \n",
    "                            random_state=42)\n",
    "df=df.drop(['High','Low','Close'],axis=1)\n",
    "unsup.fit(np.reshape(ss.fit_transform(df[:split]),(-1,df.shape[1])))\n",
    "regime = unsup.predict(np.reshape(ss.transform(df[split:]),\\\n",
    "                                                   (-1,df.shape[1])))\n",
    "\n",
    "Regimes=pd.DataFrame(regime,columns=['Regime'],index=df[split:].index)\\\n",
    "                     .join(df[split:], how='inner')\\\n",
    "                          .assign(market_cu_return=df[split:]\\\n",
    "                                  .Return.cumsum())\\\n",
    "                                  .reset_index(drop=False)\\\n",
    "                                  .rename(columns={'index':'Date'})\n",
    "\n",
    "order=[0,1,2,3]\n",
    "fig = sns.FacetGrid(data=Regimes,hue='Regime',hue_order=order,aspect=2,height= 4)\n",
    "fig.map(plt.scatter,'Date','market_cu_return', s=4).add_legend()\n",
    "plt.show()\n",
    "\n",
    "for i in order:\n",
    "    print('Mean for regime %i: '%i,unsup.means_[i][0])\n",
    "    print('Co-Variance for regime %i: '%i,(unsup.covariances_[i]))\n",
    "\n",
    "print(Regimes.head())\n",
    "\n",
    "\n",
    "\n"
   ]
  },
  {
   "cell_type": "markdown",
   "metadata": {},
   "source": [
    "In the above code, we created an unsupervised-algo that will divide the market into 4 regimes, based on the criterion of its own choosing. We have not provided any train dataset with labels. Next, we will fit the data and predict the regimes. Then we will be storing these regime predictions in a new variable called regime.\n",
    "\n",
    "This graph looks pretty good. Without actually looking at the factors based on which the classification was done, we can conclude a few things just by looking at the chart.\n",
    "\n",
    "- The # zone is the low volatility or the sideways zone\n",
    "- The # zone is high volatility zone or panic zone.\n",
    "- The # zone is a breakout zone.\n",
    "- The # zone: Not entirely sure but let us find out.\n",
    "\n",
    "The data can be inferred as follows:\n",
    "\n",
    "- Regime 0: Low mean and High covariance.\n",
    "- Regime 1: High mean and High covariance.\n",
    "- Regime 2: High mean and Low covariance.\n",
    "- Regime 3: Low mean and Low covariance."
   ]
  },
  {
   "cell_type": "markdown",
   "metadata": {},
   "source": [
    "We scale the Regimes data frame, excluding the Date and Regimes columns, created in the earlier piece of code and saved it back in the same columns. By doing so, we will not be losing any features but the data will be scaled and ready for training the support vector classifier algorithm. Next, we create a signal column which would act as the prediction values. The algorithm would train on the features’ set to predict this signal."
   ]
  },
  {
   "cell_type": "code",
   "execution_count": 7,
   "metadata": {},
   "outputs": [],
   "source": [
    "ss1 =StandardScaler()\n",
    "columns =Regimes.columns.drop(['Regime','Date'])    \n",
    "Regimes[columns]= ss1.fit_transform(Regimes[columns])\n",
    "Regimes['Signal']=0\n",
    "Regimes.loc[Regimes['Return']>0,'Signal']=1\n",
    "Regimes.loc[Regimes['Return']<0,'Signal']=-1\n",
    "Regimes['return'] = Regimes['Return'].shift(1)\n",
    "Regimes=Regimes.dropna()"
   ]
  },
  {
   "cell_type": "code",
   "execution_count": 8,
   "metadata": {},
   "outputs": [
    {
     "data": {
      "text/html": [
       "<div>\n",
       "<style scoped>\n",
       "    .dataframe tbody tr th:only-of-type {\n",
       "        vertical-align: middle;\n",
       "    }\n",
       "\n",
       "    .dataframe tbody tr th {\n",
       "        vertical-align: top;\n",
       "    }\n",
       "\n",
       "    .dataframe thead th {\n",
       "        text-align: right;\n",
       "    }\n",
       "</style>\n",
       "<table border=\"1\" class=\"dataframe\">\n",
       "  <thead>\n",
       "    <tr style=\"text-align: right;\">\n",
       "      <th></th>\n",
       "      <th>Date</th>\n",
       "      <th>Regime</th>\n",
       "      <th>Open</th>\n",
       "      <th>high</th>\n",
       "      <th>low</th>\n",
       "      <th>close</th>\n",
       "      <th>RSI</th>\n",
       "      <th>SMA</th>\n",
       "      <th>Corr</th>\n",
       "      <th>SAR</th>\n",
       "      <th>ADX</th>\n",
       "      <th>Return</th>\n",
       "      <th>market_cu_return</th>\n",
       "      <th>Signal</th>\n",
       "      <th>return</th>\n",
       "    </tr>\n",
       "  </thead>\n",
       "  <tbody>\n",
       "    <tr>\n",
       "      <th>484</th>\n",
       "      <td>2011-08-10</td>\n",
       "      <td>3</td>\n",
       "      <td>-0.396721</td>\n",
       "      <td>-0.219955</td>\n",
       "      <td>-0.834334</td>\n",
       "      <td>-0.151225</td>\n",
       "      <td>-1.795469</td>\n",
       "      <td>0.592173</td>\n",
       "      <td>1.094155</td>\n",
       "      <td>0.464805</td>\n",
       "      <td>2.376789</td>\n",
       "      <td>0.835005</td>\n",
       "      <td>-0.365778</td>\n",
       "      <td>1</td>\n",
       "      <td>-2.075496</td>\n",
       "    </tr>\n",
       "    <tr>\n",
       "      <th>485</th>\n",
       "      <td>2011-08-11</td>\n",
       "      <td>3</td>\n",
       "      <td>-0.615296</td>\n",
       "      <td>-0.369532</td>\n",
       "      <td>-0.652313</td>\n",
       "      <td>-0.717870</td>\n",
       "      <td>-2.230656</td>\n",
       "      <td>0.390797</td>\n",
       "      <td>1.113761</td>\n",
       "      <td>0.200741</td>\n",
       "      <td>2.822828</td>\n",
       "      <td>-1.485597</td>\n",
       "      <td>-0.593953</td>\n",
       "      <td>-1</td>\n",
       "      <td>0.835005</td>\n",
       "    </tr>\n",
       "    <tr>\n",
       "      <th>486</th>\n",
       "      <td>2011-08-12</td>\n",
       "      <td>3</td>\n",
       "      <td>-0.053558</td>\n",
       "      <td>-0.079177</td>\n",
       "      <td>-0.612225</td>\n",
       "      <td>-0.167602</td>\n",
       "      <td>-1.276943</td>\n",
       "      <td>0.249032</td>\n",
       "      <td>0.967933</td>\n",
       "      <td>-0.855514</td>\n",
       "      <td>2.908502</td>\n",
       "      <td>3.665122</td>\n",
       "      <td>-0.015410</td>\n",
       "      <td>1</td>\n",
       "      <td>-1.485597</td>\n",
       "    </tr>\n",
       "    <tr>\n",
       "      <th>487</th>\n",
       "      <td>2011-08-15</td>\n",
       "      <td>3</td>\n",
       "      <td>0.032779</td>\n",
       "      <td>-0.047282</td>\n",
       "      <td>-0.074829</td>\n",
       "      <td>-0.081350</td>\n",
       "      <td>-1.143359</td>\n",
       "      <td>0.125743</td>\n",
       "      <td>0.775501</td>\n",
       "      <td>-0.677920</td>\n",
       "      <td>2.953363</td>\n",
       "      <td>0.524730</td>\n",
       "      <td>0.071277</td>\n",
       "      <td>1</td>\n",
       "      <td>3.665122</td>\n",
       "    </tr>\n",
       "    <tr>\n",
       "      <th>488</th>\n",
       "      <td>2011-08-16</td>\n",
       "      <td>3</td>\n",
       "      <td>0.063379</td>\n",
       "      <td>0.120993</td>\n",
       "      <td>0.111526</td>\n",
       "      <td>0.191600</td>\n",
       "      <td>-0.729547</td>\n",
       "      <td>0.035998</td>\n",
       "      <td>0.344989</td>\n",
       "      <td>-0.638807</td>\n",
       "      <td>2.825583</td>\n",
       "      <td>0.166541</td>\n",
       "      <td>0.101863</td>\n",
       "      <td>1</td>\n",
       "      <td>0.524730</td>\n",
       "    </tr>\n",
       "    <tr>\n",
       "      <th>...</th>\n",
       "      <td>...</td>\n",
       "      <td>...</td>\n",
       "      <td>...</td>\n",
       "      <td>...</td>\n",
       "      <td>...</td>\n",
       "      <td>...</td>\n",
       "      <td>...</td>\n",
       "      <td>...</td>\n",
       "      <td>...</td>\n",
       "      <td>...</td>\n",
       "      <td>...</td>\n",
       "      <td>...</td>\n",
       "      <td>...</td>\n",
       "      <td>...</td>\n",
       "      <td>...</td>\n",
       "    </tr>\n",
       "    <tr>\n",
       "      <th>579</th>\n",
       "      <td>2011-12-23</td>\n",
       "      <td>0</td>\n",
       "      <td>0.740962</td>\n",
       "      <td>0.633514</td>\n",
       "      <td>0.678175</td>\n",
       "      <td>0.699286</td>\n",
       "      <td>0.195843</td>\n",
       "      <td>0.502098</td>\n",
       "      <td>-1.161779</td>\n",
       "      <td>0.212161</td>\n",
       "      <td>-1.099365</td>\n",
       "      <td>0.662883</td>\n",
       "      <td>0.761375</td>\n",
       "      <td>1</td>\n",
       "      <td>0.440028</td>\n",
       "    </tr>\n",
       "    <tr>\n",
       "      <th>580</th>\n",
       "      <td>2011-12-27</td>\n",
       "      <td>0</td>\n",
       "      <td>0.795606</td>\n",
       "      <td>0.746797</td>\n",
       "      <td>0.806023</td>\n",
       "      <td>0.821568</td>\n",
       "      <td>0.454205</td>\n",
       "      <td>0.505838</td>\n",
       "      <td>-1.659876</td>\n",
       "      <td>0.318505</td>\n",
       "      <td>-1.124503</td>\n",
       "      <td>0.301733</td>\n",
       "      <td>0.813136</td>\n",
       "      <td>1</td>\n",
       "      <td>0.662883</td>\n",
       "    </tr>\n",
       "    <tr>\n",
       "      <th>581</th>\n",
       "      <td>2011-12-28</td>\n",
       "      <td>0</td>\n",
       "      <td>0.832764</td>\n",
       "      <td>0.789690</td>\n",
       "      <td>0.876447</td>\n",
       "      <td>0.832486</td>\n",
       "      <td>0.477527</td>\n",
       "      <td>0.530913</td>\n",
       "      <td>-1.910933</td>\n",
       "      <td>0.425357</td>\n",
       "      <td>-1.105276</td>\n",
       "      <td>0.195235</td>\n",
       "      <td>0.848216</td>\n",
       "      <td>1</td>\n",
       "      <td>0.301733</td>\n",
       "    </tr>\n",
       "    <tr>\n",
       "      <th>582</th>\n",
       "      <td>2011-12-29</td>\n",
       "      <td>0</td>\n",
       "      <td>0.693968</td>\n",
       "      <td>0.757795</td>\n",
       "      <td>0.732348</td>\n",
       "      <td>0.651248</td>\n",
       "      <td>-0.114141</td>\n",
       "      <td>0.550490</td>\n",
       "      <td>-2.066356</td>\n",
       "      <td>0.519084</td>\n",
       "      <td>-1.273841</td>\n",
       "      <td>-0.868472</td>\n",
       "      <td>0.716696</td>\n",
       "      <td>-1</td>\n",
       "      <td>0.195235</td>\n",
       "    </tr>\n",
       "    <tr>\n",
       "      <th>583</th>\n",
       "      <td>2011-12-30</td>\n",
       "      <td>0</td>\n",
       "      <td>0.779213</td>\n",
       "      <td>0.727000</td>\n",
       "      <td>0.746433</td>\n",
       "      <td>0.792090</td>\n",
       "      <td>0.233689</td>\n",
       "      <td>0.598662</td>\n",
       "      <td>-1.605750</td>\n",
       "      <td>0.594066</td>\n",
       "      <td>-1.425549</td>\n",
       "      <td>0.487991</td>\n",
       "      <td>0.797629</td>\n",
       "      <td>1</td>\n",
       "      <td>-0.868472</td>\n",
       "    </tr>\n",
       "  </tbody>\n",
       "</table>\n",
       "<p>100 rows × 15 columns</p>\n",
       "</div>"
      ],
      "text/plain": [
       "          Date  Regime      Open      high       low     close       RSI  \\\n",
       "484 2011-08-10       3 -0.396721 -0.219955 -0.834334 -0.151225 -1.795469   \n",
       "485 2011-08-11       3 -0.615296 -0.369532 -0.652313 -0.717870 -2.230656   \n",
       "486 2011-08-12       3 -0.053558 -0.079177 -0.612225 -0.167602 -1.276943   \n",
       "487 2011-08-15       3  0.032779 -0.047282 -0.074829 -0.081350 -1.143359   \n",
       "488 2011-08-16       3  0.063379  0.120993  0.111526  0.191600 -0.729547   \n",
       "..         ...     ...       ...       ...       ...       ...       ...   \n",
       "579 2011-12-23       0  0.740962  0.633514  0.678175  0.699286  0.195843   \n",
       "580 2011-12-27       0  0.795606  0.746797  0.806023  0.821568  0.454205   \n",
       "581 2011-12-28       0  0.832764  0.789690  0.876447  0.832486  0.477527   \n",
       "582 2011-12-29       0  0.693968  0.757795  0.732348  0.651248 -0.114141   \n",
       "583 2011-12-30       0  0.779213  0.727000  0.746433  0.792090  0.233689   \n",
       "\n",
       "          SMA      Corr       SAR       ADX    Return  market_cu_return  \\\n",
       "484  0.592173  1.094155  0.464805  2.376789  0.835005         -0.365778   \n",
       "485  0.390797  1.113761  0.200741  2.822828 -1.485597         -0.593953   \n",
       "486  0.249032  0.967933 -0.855514  2.908502  3.665122         -0.015410   \n",
       "487  0.125743  0.775501 -0.677920  2.953363  0.524730          0.071277   \n",
       "488  0.035998  0.344989 -0.638807  2.825583  0.166541          0.101863   \n",
       "..        ...       ...       ...       ...       ...               ...   \n",
       "579  0.502098 -1.161779  0.212161 -1.099365  0.662883          0.761375   \n",
       "580  0.505838 -1.659876  0.318505 -1.124503  0.301733          0.813136   \n",
       "581  0.530913 -1.910933  0.425357 -1.105276  0.195235          0.848216   \n",
       "582  0.550490 -2.066356  0.519084 -1.273841 -0.868472          0.716696   \n",
       "583  0.598662 -1.605750  0.594066 -1.425549  0.487991          0.797629   \n",
       "\n",
       "     Signal    return  \n",
       "484       1 -2.075496  \n",
       "485      -1  0.835005  \n",
       "486       1 -1.485597  \n",
       "487       1  3.665122  \n",
       "488       1  0.524730  \n",
       "..      ...       ...  \n",
       "579       1  0.440028  \n",
       "580       1  0.662883  \n",
       "581       1  0.301733  \n",
       "582      -1  0.195235  \n",
       "583       1 -0.868472  \n",
       "\n",
       "[100 rows x 15 columns]"
      ]
     },
     "execution_count": 8,
     "metadata": {},
     "output_type": "execute_result"
    }
   ],
   "source": [
    "Regimes.tail(100)"
   ]
  },
  {
   "cell_type": "code",
   "execution_count": 28,
   "metadata": {},
   "outputs": [
    {
     "name": "stdout",
     "output_type": "stream",
     "text": [
      "Date\n",
      "2011-07-18    1\n",
      "2011-07-19    1\n",
      "2011-07-20    1\n",
      "2011-07-21    1\n",
      "2011-07-22    1\n",
      "             ..\n",
      "2011-12-23    1\n",
      "2011-12-27    1\n",
      "2011-12-28    1\n",
      "2011-12-29    1\n",
      "2011-12-30    1\n",
      "Name: Pred_Signal, Length: 117, dtype: int64\n"
     ]
    },
    {
     "data": {
      "image/png": "[encoded data removed]",
      "text/plain": [
       "<Figure size 432x288 with 1 Axes>"
      ]
     },
     "metadata": {
      "needs_background": "light"
     },
     "output_type": "display_data"
    }
   ],
   "source": [
    "# SVM Classifier       \n",
    "cls= SVC(C=1.0, cache_size=200, class_weight=None, coef0=0.0,\n",
    "    decision_function_shape='ovr', degree=3, gamma='auto', kernel='rbf',\n",
    "    max_iter=-1, probability=False, random_state=None, shrinking=True,\n",
    "    tol=0.001, verbose=False)\n",
    "\n",
    "split2= int(.8*len(Regimes))\n",
    "\n",
    "X = Regimes.drop(['Signal','Return','market_cu_return','Date'], axis=1)\n",
    "y= Regimes['Signal']\n",
    "\n",
    "cls.fit(X[:split2],y[:split2])\n",
    "\n",
    "p_data=len(X)-split2\n",
    "\n",
    "df['Pred_Signal']=0\n",
    "df.iloc[-p_data:,df.columns.get_loc('Pred_Signal')]=cls.predict(X[split2:])\n",
    "\n",
    "print(df['Pred_Signal'][-p_data:])\n",
    "\n",
    "df['str_ret'] =df['Pred_Signal']*df['Return'].shift(-1)\n",
    "\n",
    "df['strategy_cu_return']=0.\n",
    "df['market_cu_return']=0.\n",
    "df.iloc[-p_data:,df.columns.get_loc('strategy_cu_return')] \\\n",
    "       = np.nancumsum(df['str_ret'][-p_data:])\n",
    "df.iloc[-p_data:,df.columns.get_loc('market_cu_return')] \\\n",
    "       = np.nancumsum(df['Return'][-p_data:])\n",
    "Sharpe = (df['strategy_cu_return'][-1]-df['market_cu_return'][-1])\\\n",
    "           /np.nanstd(df['strategy_cu_return'][-p_data:])\n",
    "\n",
    "plt.plot(df['strategy_cu_return'][-p_data:],color='g',label='Strategy Returns')\n",
    "plt.plot(df['market_cu_return'][-p_data:],color='r',label='Market Returns')\n",
    "plt.figtext(0.14,0.9,s='Sharpe ratio: %.2f'%Sharpe)\n",
    "plt.legend(loc='best')\n",
    "plt.show()"
   ]
  }
 ],
 "metadata": {
  "colab": {
   "collapsed_sections": [],
   "name": "W4_1_ML_SVM.ipynb",
   "provenance": [],
   "version": "0.3.2"
  },
  "kernelspec": {
   "display_name": "Python 3 (ipykernel)",
   "language": "python",
   "name": "python3"
  },
  "language_info": {
   "codemirror_mode": {
    "name": "ipython",
    "version": 3
   },
   "file_extension": ".py",
   "mimetype": "text/x-python",
   "name": "python",
   "nbconvert_exporter": "python",
   "pygments_lexer": "ipython3",
   "version": "3.10.0"
  }
 },
 "nbformat": 4,
 "nbformat_minor": 1
}
